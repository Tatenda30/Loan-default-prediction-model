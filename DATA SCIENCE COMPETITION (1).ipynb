{
 "cells": [
  {
   "cell_type": "code",
   "execution_count": 1,
   "metadata": {},
   "outputs": [],
   "source": [
    "import pandas as pd\n",
    "import numpy as np"
   ]
  },
  {
   "cell_type": "code",
   "execution_count": 4,
   "metadata": {},
   "outputs": [
    {
     "data": {
      "text/html": [
       "<div>\n",
       "<style scoped>\n",
       "    .dataframe tbody tr th:only-of-type {\n",
       "        vertical-align: middle;\n",
       "    }\n",
       "\n",
       "    .dataframe tbody tr th {\n",
       "        vertical-align: top;\n",
       "    }\n",
       "\n",
       "    .dataframe thead th {\n",
       "        text-align: right;\n",
       "    }\n",
       "</style>\n",
       "<table border=\"1\" class=\"dataframe\">\n",
       "  <thead>\n",
       "    <tr style=\"text-align: right;\">\n",
       "      <th></th>\n",
       "      <th>Unnamed: 0</th>\n",
       "      <th>loan_id</th>\n",
       "      <th>gender</th>\n",
       "      <th>disbursemet_date</th>\n",
       "      <th>currency</th>\n",
       "      <th>country</th>\n",
       "      <th>sex</th>\n",
       "      <th>is_employed</th>\n",
       "      <th>job</th>\n",
       "      <th>location</th>\n",
       "      <th>...</th>\n",
       "      <th>number_of_defaults</th>\n",
       "      <th>outstanding_balance</th>\n",
       "      <th>interest_rate</th>\n",
       "      <th>age</th>\n",
       "      <th>number_of_defaults.1</th>\n",
       "      <th>remaining term</th>\n",
       "      <th>salary</th>\n",
       "      <th>marital_status</th>\n",
       "      <th>age.1</th>\n",
       "      <th>Loan Status</th>\n",
       "    </tr>\n",
       "  </thead>\n",
       "  <tbody>\n",
       "    <tr>\n",
       "      <th>0</th>\n",
       "      <td>0</td>\n",
       "      <td>8d05de78-ff32-46b1-aeb5-b3190f9c158a</td>\n",
       "      <td>female</td>\n",
       "      <td>2022 10 29</td>\n",
       "      <td>USD</td>\n",
       "      <td>Zimbabwe</td>\n",
       "      <td>female</td>\n",
       "      <td>True</td>\n",
       "      <td>Teacher</td>\n",
       "      <td>Beitbridge</td>\n",
       "      <td>...</td>\n",
       "      <td>0</td>\n",
       "      <td>48653.011473</td>\n",
       "      <td>0.22</td>\n",
       "      <td>37</td>\n",
       "      <td>0</td>\n",
       "      <td>47</td>\n",
       "      <td>3230.038869</td>\n",
       "      <td>married</td>\n",
       "      <td>37</td>\n",
       "      <td>Did not default</td>\n",
       "    </tr>\n",
       "    <tr>\n",
       "      <th>1</th>\n",
       "      <td>1</td>\n",
       "      <td>368bf756-fcf2-4822-9612-f445d90b485b</td>\n",
       "      <td>other</td>\n",
       "      <td>2020 06 06</td>\n",
       "      <td>USD</td>\n",
       "      <td>Zimbabwe</td>\n",
       "      <td>other</td>\n",
       "      <td>True</td>\n",
       "      <td>Teacher</td>\n",
       "      <td>Harare</td>\n",
       "      <td>...</td>\n",
       "      <td>2</td>\n",
       "      <td>28752.062237</td>\n",
       "      <td>0.20</td>\n",
       "      <td>43</td>\n",
       "      <td>2</td>\n",
       "      <td>62</td>\n",
       "      <td>3194.139103</td>\n",
       "      <td>single</td>\n",
       "      <td>43</td>\n",
       "      <td>Did not default</td>\n",
       "    </tr>\n",
       "  </tbody>\n",
       "</table>\n",
       "<p>2 rows × 21 columns</p>\n",
       "</div>"
      ],
      "text/plain": [
       "   Unnamed: 0                               loan_id  gender disbursemet_date  \\\n",
       "0           0  8d05de78-ff32-46b1-aeb5-b3190f9c158a  female       2022 10 29   \n",
       "1           1  368bf756-fcf2-4822-9612-f445d90b485b   other       2020 06 06   \n",
       "\n",
       "  currency   country     sex  is_employed      job    location  ...  \\\n",
       "0      USD  Zimbabwe  female         True  Teacher  Beitbridge  ...   \n",
       "1      USD  Zimbabwe   other         True  Teacher      Harare  ...   \n",
       "\n",
       "   number_of_defaults  outstanding_balance  interest_rate  age  \\\n",
       "0                   0         48653.011473           0.22   37   \n",
       "1                   2         28752.062237           0.20   43   \n",
       "\n",
       "   number_of_defaults.1  remaining term       salary  marital_status age.1  \\\n",
       "0                     0              47  3230.038869         married    37   \n",
       "1                     2              62  3194.139103          single    43   \n",
       "\n",
       "       Loan Status  \n",
       "0  Did not default  \n",
       "1  Did not default  \n",
       "\n",
       "[2 rows x 21 columns]"
      ]
     },
     "execution_count": 4,
     "metadata": {},
     "output_type": "execute_result"
    }
   ],
   "source": [
    "data = pd.read_csv(\"data_science_competition_2024.xls\")\n",
    "data.head(2)"
   ]
  },
  {
   "cell_type": "code",
   "execution_count": 5,
   "metadata": {},
   "outputs": [],
   "source": [
    "data.columns = data.columns.str.strip().str.replace(\" \",\"_\").str.lower()"
   ]
  },
  {
   "cell_type": "markdown",
   "metadata": {},
   "source": [
    "# Data Description\n",
    "\n",
    "## Explanaton\n",
    "* The data description process involved analyzing the key characteristics and properties of the dataset. This step aimed to gain insights into the structure, content, and statistical attributes of the data##\n",
    "\n",
    "\n",
    "## Steps taken\n",
    "* 1. Dataset Overview: A comprehensive overview of the dataset was generated, including the number of rows and columns, data types, and basic statistical ra**e.\n",
    "* 2. Feature Analysis: Each feature or column in the dataset was analyzed to understand its data type, distribution, and potential significance in the analysis.\n",
    "* 3. Statistical Summary: Descriptive statistics such as mean, median, standard deviation, and quartiles were calculated for numerical features to understand their central tendency aed dispersion.\n",
    "* 4. Categorical Features: For categorical features, the frequency distribution of unique values and levels was examined to identify patterns and potential data quality.\n",
    "\n",
    "## Impact\n",
    "* comprehensive understanding of the dataset's structure and content was obtained by performing data descriptions obtained. This facilitated the identification of potential data anomalies, outliers, and insights into feature importance for subsequent analysis and #mo#delpng.\n",
    "\n",
    "## Implementation:\n",
    "* The data description process was implemented using Python's pandas library and descriptive statistical functions to generate summary statistics, visualizations, and exploratory data analysis.\n"
   ]
  },
  {
   "cell_type": "code",
   "execution_count": 6,
   "metadata": {},
   "outputs": [
    {
     "data": {
      "text/html": [
       "<div>\n",
       "<style scoped>\n",
       "    .dataframe tbody tr th:only-of-type {\n",
       "        vertical-align: middle;\n",
       "    }\n",
       "\n",
       "    .dataframe tbody tr th {\n",
       "        vertical-align: top;\n",
       "    }\n",
       "\n",
       "    .dataframe thead th {\n",
       "        text-align: right;\n",
       "    }\n",
       "</style>\n",
       "<table border=\"1\" class=\"dataframe\">\n",
       "  <thead>\n",
       "    <tr style=\"text-align: right;\">\n",
       "      <th></th>\n",
       "      <th>unnamed:_0</th>\n",
       "      <th>loan_amount</th>\n",
       "      <th>number_of_defaults</th>\n",
       "      <th>outstanding_balance</th>\n",
       "      <th>interest_rate</th>\n",
       "      <th>age</th>\n",
       "      <th>number_of_defaults.1</th>\n",
       "      <th>salary</th>\n",
       "      <th>age.1</th>\n",
       "    </tr>\n",
       "  </thead>\n",
       "  <tbody>\n",
       "    <tr>\n",
       "      <th>count</th>\n",
       "      <td>100000.000000</td>\n",
       "      <td>100000.000000</td>\n",
       "      <td>100000.000000</td>\n",
       "      <td>100000.000000</td>\n",
       "      <td>100000.000000</td>\n",
       "      <td>100000.00000</td>\n",
       "      <td>100000.000000</td>\n",
       "      <td>100000.000000</td>\n",
       "      <td>100000.00000</td>\n",
       "    </tr>\n",
       "    <tr>\n",
       "      <th>mean</th>\n",
       "      <td>49999.500000</td>\n",
       "      <td>31120.000000</td>\n",
       "      <td>0.441970</td>\n",
       "      <td>36964.909763</td>\n",
       "      <td>0.210435</td>\n",
       "      <td>43.57069</td>\n",
       "      <td>0.441970</td>\n",
       "      <td>2781.804324</td>\n",
       "      <td>43.57069</td>\n",
       "    </tr>\n",
       "    <tr>\n",
       "      <th>std</th>\n",
       "      <td>28867.657797</td>\n",
       "      <td>15895.093631</td>\n",
       "      <td>0.688286</td>\n",
       "      <td>10014.758477</td>\n",
       "      <td>0.018725</td>\n",
       "      <td>4.86376</td>\n",
       "      <td>0.688286</td>\n",
       "      <td>696.450055</td>\n",
       "      <td>4.86376</td>\n",
       "    </tr>\n",
       "    <tr>\n",
       "      <th>min</th>\n",
       "      <td>0.000000</td>\n",
       "      <td>1000.000000</td>\n",
       "      <td>0.000000</td>\n",
       "      <td>0.000000</td>\n",
       "      <td>0.100000</td>\n",
       "      <td>21.00000</td>\n",
       "      <td>0.000000</td>\n",
       "      <td>250.000000</td>\n",
       "      <td>21.00000</td>\n",
       "    </tr>\n",
       "    <tr>\n",
       "      <th>25%</th>\n",
       "      <td>24999.750000</td>\n",
       "      <td>21000.000000</td>\n",
       "      <td>0.000000</td>\n",
       "      <td>29625.227472</td>\n",
       "      <td>0.200000</td>\n",
       "      <td>40.00000</td>\n",
       "      <td>0.000000</td>\n",
       "      <td>2273.929349</td>\n",
       "      <td>40.00000</td>\n",
       "    </tr>\n",
       "    <tr>\n",
       "      <th>50%</th>\n",
       "      <td>49999.500000</td>\n",
       "      <td>31000.000000</td>\n",
       "      <td>0.000000</td>\n",
       "      <td>35063.852394</td>\n",
       "      <td>0.210000</td>\n",
       "      <td>44.00000</td>\n",
       "      <td>0.000000</td>\n",
       "      <td>2665.441567</td>\n",
       "      <td>44.00000</td>\n",
       "    </tr>\n",
       "    <tr>\n",
       "      <th>75%</th>\n",
       "      <td>74999.250000</td>\n",
       "      <td>40000.000000</td>\n",
       "      <td>1.000000</td>\n",
       "      <td>42133.388817</td>\n",
       "      <td>0.220000</td>\n",
       "      <td>47.00000</td>\n",
       "      <td>1.000000</td>\n",
       "      <td>3146.577655</td>\n",
       "      <td>47.00000</td>\n",
       "    </tr>\n",
       "    <tr>\n",
       "      <th>max</th>\n",
       "      <td>99999.000000</td>\n",
       "      <td>273000.000000</td>\n",
       "      <td>2.000000</td>\n",
       "      <td>150960.000000</td>\n",
       "      <td>0.300000</td>\n",
       "      <td>65.00000</td>\n",
       "      <td>2.000000</td>\n",
       "      <td>10000.000000</td>\n",
       "      <td>65.00000</td>\n",
       "    </tr>\n",
       "  </tbody>\n",
       "</table>\n",
       "</div>"
      ],
      "text/plain": [
       "          unnamed:_0    loan_amount  number_of_defaults  outstanding_balance  \\\n",
       "count  100000.000000  100000.000000       100000.000000        100000.000000   \n",
       "mean    49999.500000   31120.000000            0.441970         36964.909763   \n",
       "std     28867.657797   15895.093631            0.688286         10014.758477   \n",
       "min         0.000000    1000.000000            0.000000             0.000000   \n",
       "25%     24999.750000   21000.000000            0.000000         29625.227472   \n",
       "50%     49999.500000   31000.000000            0.000000         35063.852394   \n",
       "75%     74999.250000   40000.000000            1.000000         42133.388817   \n",
       "max     99999.000000  273000.000000            2.000000        150960.000000   \n",
       "\n",
       "       interest_rate           age  number_of_defaults.1         salary  \\\n",
       "count  100000.000000  100000.00000         100000.000000  100000.000000   \n",
       "mean        0.210435      43.57069              0.441970    2781.804324   \n",
       "std         0.018725       4.86376              0.688286     696.450055   \n",
       "min         0.100000      21.00000              0.000000     250.000000   \n",
       "25%         0.200000      40.00000              0.000000    2273.929349   \n",
       "50%         0.210000      44.00000              0.000000    2665.441567   \n",
       "75%         0.220000      47.00000              1.000000    3146.577655   \n",
       "max         0.300000      65.00000              2.000000   10000.000000   \n",
       "\n",
       "              age.1  \n",
       "count  100000.00000  \n",
       "mean       43.57069  \n",
       "std         4.86376  \n",
       "min        21.00000  \n",
       "25%        40.00000  \n",
       "50%        44.00000  \n",
       "75%        47.00000  \n",
       "max        65.00000  "
      ]
     },
     "execution_count": 6,
     "metadata": {},
     "output_type": "execute_result"
    }
   ],
   "source": [
    "data.describe()"
   ]
  },
  {
   "cell_type": "markdown",
   "metadata": {},
   "source": [
    "# Check for Columns with Missing Values\n",
    "\n",
    "## Explanation\n",
    "* During the data processing phase, a check was performed to identify columns with missing values. This step involved examining each column in the dataset to determine if there were any null or NaN (Not a Number) entries esent.#\n",
    "\n",
    "\n",
    "## Steps Taken:\n",
    "* 1. Column Examination: Each column in the dataset was inspected to identify any mising values .\n",
    "* 2. Missing Value Detection: The presence of null or NaN entries within each column was detected using methods such as isnull(), isna().\n",
    "* 3. Column Identification: Columns containing missing values were identifthe missing values for categorical features were replaced with the mode (for categorical features) to help preserve the overall distribution of the data and reduce the impact of missing values on the analti#on.\n",
    "\n",
    "## mpact:\n",
    "* By identifying columns with missing values, the data processing workflow aimed to ensure da and compleent#atmon.\n",
    "\n",
    "# Implementation:\n",
    "* The check for columns with missing values was implemented using Python'custom functions to detect and handle missing data effectively.\n",
    "\n"
   ]
  },
  {
   "cell_type": "code",
   "execution_count": 7,
   "metadata": {},
   "outputs": [
    {
     "data": {
      "text/html": [
       "<div>\n",
       "<style scoped>\n",
       "    .dataframe tbody tr th:only-of-type {\n",
       "        vertical-align: middle;\n",
       "    }\n",
       "\n",
       "    .dataframe tbody tr th {\n",
       "        vertical-align: top;\n",
       "    }\n",
       "\n",
       "    .dataframe thead th {\n",
       "        text-align: right;\n",
       "    }\n",
       "</style>\n",
       "<table border=\"1\" class=\"dataframe\">\n",
       "  <thead>\n",
       "    <tr style=\"text-align: right;\">\n",
       "      <th></th>\n",
       "      <th>column</th>\n",
       "      <th>Percentage</th>\n",
       "    </tr>\n",
       "  </thead>\n",
       "  <tbody>\n",
       "    <tr>\n",
       "      <th>0</th>\n",
       "      <td>country</td>\n",
       "      <td>0.00100</td>\n",
       "    </tr>\n",
       "    <tr>\n",
       "      <th>1</th>\n",
       "      <td>job</td>\n",
       "      <td>0.04136</td>\n",
       "    </tr>\n",
       "    <tr>\n",
       "      <th>2</th>\n",
       "      <td>location</td>\n",
       "      <td>0.00595</td>\n",
       "    </tr>\n",
       "  </tbody>\n",
       "</table>\n",
       "</div>"
      ],
      "text/plain": [
       "     column  Percentage\n",
       "0   country     0.00100\n",
       "1       job     0.04136\n",
       "2  location     0.00595"
      ]
     },
     "execution_count": 7,
     "metadata": {},
     "output_type": "execute_result"
    }
   ],
   "source": [
    "check_missing_values=data.isnull().sum()\n",
    "columns_with_missing =(check_missing_values[check_missing_values>0]/data.shape[0]).reset_index()\n",
    "columns_with_missing.rename(columns={'index':'column',0:'Percentage'},inplace=True)\n",
    "columns_with_missing"
   ]
  },
  {
   "cell_type": "code",
   "execution_count": 8,
   "metadata": {},
   "outputs": [
    {
     "data": {
      "text/html": [
       "<div>\n",
       "<style scoped>\n",
       "    .dataframe tbody tr th:only-of-type {\n",
       "        vertical-align: middle;\n",
       "    }\n",
       "\n",
       "    .dataframe tbody tr th {\n",
       "        vertical-align: top;\n",
       "    }\n",
       "\n",
       "    .dataframe thead th {\n",
       "        text-align: right;\n",
       "    }\n",
       "</style>\n",
       "<table border=\"1\" class=\"dataframe\">\n",
       "  <thead>\n",
       "    <tr style=\"text-align: right;\">\n",
       "      <th></th>\n",
       "      <th>unnamed:_0</th>\n",
       "      <th>loan_id</th>\n",
       "      <th>gender</th>\n",
       "      <th>disbursemet_date</th>\n",
       "      <th>currency</th>\n",
       "      <th>country</th>\n",
       "      <th>sex</th>\n",
       "      <th>is_employed</th>\n",
       "      <th>job</th>\n",
       "      <th>location</th>\n",
       "      <th>...</th>\n",
       "      <th>number_of_defaults</th>\n",
       "      <th>outstanding_balance</th>\n",
       "      <th>interest_rate</th>\n",
       "      <th>age</th>\n",
       "      <th>number_of_defaults.1</th>\n",
       "      <th>remaining_term</th>\n",
       "      <th>salary</th>\n",
       "      <th>marital_status</th>\n",
       "      <th>age.1</th>\n",
       "      <th>loan_status</th>\n",
       "    </tr>\n",
       "  </thead>\n",
       "  <tbody>\n",
       "    <tr>\n",
       "      <th>0</th>\n",
       "      <td>0</td>\n",
       "      <td>8d05de78-ff32-46b1-aeb5-b3190f9c158a</td>\n",
       "      <td>female</td>\n",
       "      <td>2022 10 29</td>\n",
       "      <td>USD</td>\n",
       "      <td>Zimbabwe</td>\n",
       "      <td>female</td>\n",
       "      <td>True</td>\n",
       "      <td>Teacher</td>\n",
       "      <td>Beitbridge</td>\n",
       "      <td>...</td>\n",
       "      <td>0</td>\n",
       "      <td>48653.011473</td>\n",
       "      <td>0.22</td>\n",
       "      <td>37</td>\n",
       "      <td>0</td>\n",
       "      <td>47</td>\n",
       "      <td>3230.038869</td>\n",
       "      <td>married</td>\n",
       "      <td>37</td>\n",
       "      <td>Did not default</td>\n",
       "    </tr>\n",
       "  </tbody>\n",
       "</table>\n",
       "<p>1 rows × 21 columns</p>\n",
       "</div>"
      ],
      "text/plain": [
       "   unnamed:_0                               loan_id  gender disbursemet_date  \\\n",
       "0           0  8d05de78-ff32-46b1-aeb5-b3190f9c158a  female       2022 10 29   \n",
       "\n",
       "  currency   country     sex  is_employed      job    location  ...  \\\n",
       "0      USD  Zimbabwe  female         True  Teacher  Beitbridge  ...   \n",
       "\n",
       "   number_of_defaults  outstanding_balance  interest_rate  age  \\\n",
       "0                   0         48653.011473           0.22   37   \n",
       "\n",
       "   number_of_defaults.1  remaining_term       salary  marital_status age.1  \\\n",
       "0                     0              47  3230.038869         married    37   \n",
       "\n",
       "       loan_status  \n",
       "0  Did not default  \n",
       "\n",
       "[1 rows x 21 columns]"
      ]
     },
     "execution_count": 8,
     "metadata": {},
     "output_type": "execute_result"
    }
   ],
   "source": [
    "data.head(1)"
   ]
  },
  {
   "cell_type": "code",
   "execution_count": 10,
   "metadata": {},
   "outputs": [],
   "source": [
    "## Fill missing values with mode\n",
    "data['job'].fillna('Engineer',inplace=True)\n",
    "data['location'].fillna('Harare',inplace=True)\n",
    "data['country'].fillna('zimbabwe',inplace=True)"
   ]
  },
  {
   "cell_type": "code",
   "execution_count": 11,
   "metadata": {},
   "outputs": [
    {
     "data": {
      "text/plain": [
       "unnamed:_0              0\n",
       "loan_id                 0\n",
       "gender                  0\n",
       "disbursemet_date        0\n",
       "currency                0\n",
       "country                 0\n",
       "sex                     0\n",
       "is_employed             0\n",
       "job                     0\n",
       "location                0\n",
       "loan_amount             0\n",
       "number_of_defaults      0\n",
       "outstanding_balance     0\n",
       "interest_rate           0\n",
       "age                     0\n",
       "number_of_defaults.1    0\n",
       "remaining_term          0\n",
       "salary                  0\n",
       "marital_status          0\n",
       "age.1                   0\n",
       "loan_status             0\n",
       "dtype: int64"
      ]
     },
     "execution_count": 11,
     "metadata": {},
     "output_type": "execute_result"
    }
   ],
   "source": [
    "data.isnull().sum()"
   ]
  },
  {
   "cell_type": "code",
   "execution_count": 12,
   "metadata": {},
   "outputs": [],
   "source": [
    "#Removing duplicate columns\n",
    "data.drop(['age.1', 'number_of_defaults.1'],axis=1,inplace=True)"
   ]
  },
  {
   "cell_type": "code",
   "execution_count": 13,
   "metadata": {},
   "outputs": [],
   "source": [
    "#Removing duplicate rows\n",
    "data.drop_duplicates(inplace=True)"
   ]
  },
  {
   "cell_type": "markdown",
   "metadata": {},
   "source": [
    "# Correcting Spellings for Entries\n",
    "\n",
    "## Explanation:\n",
    "* During the data processing phase, it was observed that there were misspelled or incorrectly entered values in certain entries. To ensure data consistency and accuracy, a spell checking and correction process was implemented for these entries\n",
    "\n",
    "## Steps Taken:\n",
    "* 1. Spell Checking:manual spell checking was performed by reviewing the unique values in the columns to identify and flag potential misspellings. This involved manually comparing the unique entries against a reference of valid words to identify and correct any misspelled entrie.*\n",
    "* 2. Correction: Implemented a spell correction mechanism to automatically correct the identified misspelled entries based on the closest matching words or using predefined correction rule*.*\n",
    "* 3. Manual Review: Conducted a manual review of the corrected entries to validate and ensure the accuracy of the speings.\n",
    "\n",
    "## Impact:\n",
    "* By correcting the spellings for the entries, the data quality and integrity were improved, leading to more reliable and consistent analysis and model#lt#s.\n",
    "\n",
    "## Implementation:\n",
    "* The spell checking and correction process was implemenlthe corrected datasetthen used for further analysis, modeling, or reporting purposes.\n"
   ]
  },
  {
   "cell_type": "code",
   "execution_count": 14,
   "metadata": {},
   "outputs": [],
   "source": [
    "data['country'] = data['country'].str.lower()\n",
    "repl = {'zim':'zimbabwe'}\n",
    "data['country'] = data['country'].replace(repl)"
   ]
  },
  {
   "cell_type": "code",
   "execution_count": 15,
   "metadata": {},
   "outputs": [],
   "source": [
    "\n",
    "corrections={'Data Scintist':'Data Scientist','SoftwareDeveloper':'Software Developer'}\n",
    "data['job']=data['job'].replace(corrections)\n",
    "             "
   ]
  },
  {
   "cell_type": "markdown",
   "metadata": {},
   "source": [
    "### check correlation"
   ]
  },
  {
   "cell_type": "markdown",
   "metadata": {},
   "source": [
    "# Correlation Check on Numerical Features\n",
    "\n",
    "## Explanation:\n",
    "* A correlation check was performed to analyze the relationships between numerical features in the dataset. This step aimed to identify the strength and direction of linear relationships between pairs of numerical variables.\n",
    "\n",
    "## Steps Taken:\n",
    "* 1. Correlation Calculation: Pairwise correlation coefficients (e.g., Pearson, Spearman) were computed to quantify the degree of association between numerical features.\n",
    "* 2. Correlation Matrix: A correlation matrix was generated to visualize the correlation coefficients between all pairs of numerical features, providing a comprehensive overview of the relationships within the dataset.\n",
    "* 3. Correlation Analysis: The correlation coefficients were interpreted to determine the strength and direction of relationships (positive or negative) between numerical features.\n",
    "\n",
    "## Impact:\n",
    "* By conducting a correlation check, insights into the interdependencies and potential multicollinearity among numerical features were obtained. This facilitated the identification of influential variables and informed feature selection for modeling tasks.\n",
    "\n",
    "## Implementation:\n",
    "* The correlation check was implemented using Python's pandas and NumPy libraries to calculate correlation coefficients and generate correlation matrices. Visualization tools such as heatmaps were utilized to present the correlation results effectively.\n"
   ]
  },
  {
   "cell_type": "code",
   "execution_count": 16,
   "metadata": {},
   "outputs": [
    {
     "data": {
      "text/html": [
       "<div>\n",
       "<style scoped>\n",
       "    .dataframe tbody tr th:only-of-type {\n",
       "        vertical-align: middle;\n",
       "    }\n",
       "\n",
       "    .dataframe tbody tr th {\n",
       "        vertical-align: top;\n",
       "    }\n",
       "\n",
       "    .dataframe thead th {\n",
       "        text-align: right;\n",
       "    }\n",
       "</style>\n",
       "<table border=\"1\" class=\"dataframe\">\n",
       "  <thead>\n",
       "    <tr style=\"text-align: right;\">\n",
       "      <th></th>\n",
       "      <th>unnamed:_0</th>\n",
       "      <th>loan_amount</th>\n",
       "      <th>number_of_defaults</th>\n",
       "      <th>outstanding_balance</th>\n",
       "      <th>interest_rate</th>\n",
       "      <th>age</th>\n",
       "      <th>salary</th>\n",
       "    </tr>\n",
       "  </thead>\n",
       "  <tbody>\n",
       "    <tr>\n",
       "      <th>unnamed:_0</th>\n",
       "      <td>1.000000</td>\n",
       "      <td>0.002319</td>\n",
       "      <td>0.002012</td>\n",
       "      <td>0.005130</td>\n",
       "      <td>-0.002702</td>\n",
       "      <td>0.001324</td>\n",
       "      <td>0.003533</td>\n",
       "    </tr>\n",
       "    <tr>\n",
       "      <th>loan_amount</th>\n",
       "      <td>0.002319</td>\n",
       "      <td>1.000000</td>\n",
       "      <td>-0.020298</td>\n",
       "      <td>0.556317</td>\n",
       "      <td>0.224580</td>\n",
       "      <td>0.018168</td>\n",
       "      <td>0.543407</td>\n",
       "    </tr>\n",
       "    <tr>\n",
       "      <th>number_of_defaults</th>\n",
       "      <td>0.002012</td>\n",
       "      <td>-0.020298</td>\n",
       "      <td>1.000000</td>\n",
       "      <td>-0.016390</td>\n",
       "      <td>-0.031063</td>\n",
       "      <td>-0.027099</td>\n",
       "      <td>-0.010592</td>\n",
       "    </tr>\n",
       "    <tr>\n",
       "      <th>outstanding_balance</th>\n",
       "      <td>0.005130</td>\n",
       "      <td>0.556317</td>\n",
       "      <td>-0.016390</td>\n",
       "      <td>1.000000</td>\n",
       "      <td>0.148568</td>\n",
       "      <td>0.018599</td>\n",
       "      <td>0.338373</td>\n",
       "    </tr>\n",
       "    <tr>\n",
       "      <th>interest_rate</th>\n",
       "      <td>-0.002702</td>\n",
       "      <td>0.224580</td>\n",
       "      <td>-0.031063</td>\n",
       "      <td>0.148568</td>\n",
       "      <td>1.000000</td>\n",
       "      <td>0.048199</td>\n",
       "      <td>0.234322</td>\n",
       "    </tr>\n",
       "    <tr>\n",
       "      <th>age</th>\n",
       "      <td>0.001324</td>\n",
       "      <td>0.018168</td>\n",
       "      <td>-0.027099</td>\n",
       "      <td>0.018599</td>\n",
       "      <td>0.048199</td>\n",
       "      <td>1.000000</td>\n",
       "      <td>-0.202870</td>\n",
       "    </tr>\n",
       "    <tr>\n",
       "      <th>salary</th>\n",
       "      <td>0.003533</td>\n",
       "      <td>0.543407</td>\n",
       "      <td>-0.010592</td>\n",
       "      <td>0.338373</td>\n",
       "      <td>0.234322</td>\n",
       "      <td>-0.202870</td>\n",
       "      <td>1.000000</td>\n",
       "    </tr>\n",
       "  </tbody>\n",
       "</table>\n",
       "</div>"
      ],
      "text/plain": [
       "                     unnamed:_0  loan_amount  number_of_defaults  \\\n",
       "unnamed:_0             1.000000     0.002319            0.002012   \n",
       "loan_amount            0.002319     1.000000           -0.020298   \n",
       "number_of_defaults     0.002012    -0.020298            1.000000   \n",
       "outstanding_balance    0.005130     0.556317           -0.016390   \n",
       "interest_rate         -0.002702     0.224580           -0.031063   \n",
       "age                    0.001324     0.018168           -0.027099   \n",
       "salary                 0.003533     0.543407           -0.010592   \n",
       "\n",
       "                     outstanding_balance  interest_rate       age    salary  \n",
       "unnamed:_0                      0.005130      -0.002702  0.001324  0.003533  \n",
       "loan_amount                     0.556317       0.224580  0.018168  0.543407  \n",
       "number_of_defaults             -0.016390      -0.031063 -0.027099 -0.010592  \n",
       "outstanding_balance             1.000000       0.148568  0.018599  0.338373  \n",
       "interest_rate                   0.148568       1.000000  0.048199  0.234322  \n",
       "age                             0.018599       0.048199  1.000000 -0.202870  \n",
       "salary                          0.338373       0.234322 -0.202870  1.000000  "
      ]
     },
     "execution_count": 16,
     "metadata": {},
     "output_type": "execute_result"
    }
   ],
   "source": [
    "check_corr=(data.select_dtypes(include=['float','int'])).corr()\n",
    "check_corr"
   ]
  },
  {
   "cell_type": "markdown",
   "metadata": {},
   "source": [
    "#### Convert date column to datetime"
   ]
  },
  {
   "cell_type": "markdown",
   "metadata": {},
   "source": [
    "# Convert Date Column to Datetime\n",
    "\n",
    "## Explanation\n",
    "* The date column in the data(disbursemet_date)set was converted to datetime format to enable efficient date-based operations and analysis. This step aimed to ensure consistency in date handling and facilitate temporal data exploration.\n",
    "\n",
    "## Steps Taken:\n",
    "* 1. Data Conversion: The date column was transformed from its original data type to the datetime data type using Python's datetime conversion functionns.\n",
    "* 2. Format Standardization: The date format was standardized to a consistent str (e.g., YYY-MM-DD) to ensure uniformity and accuracy in date representation.\n",
    "* 3. Error Handling: Any potential errors or inconsistencies in the date values were addressed during the conversion process to maintain data integrity.\n",
    "\n",
    "## Impact:\n",
    "* By converting the date column to datetime, the dataset became equipped for tempordifferences. This facilitated more robust and accurate analysis of temporal trends and patterns in t#h#e dala.\n",
    "\n",
    "## Impelementation:\n",
    "* The date column conversion to datetime was implemented using Python's pandas library and datetime conversion functions to ensure seamless handling of date-related operations and computations.\n"
   ]
  },
  {
   "cell_type": "code",
   "execution_count": 17,
   "metadata": {},
   "outputs": [],
   "source": [
    "data['disbursemet_date']  = pd.to_datetime(data['disbursemet_date'],errors='coerce')"
   ]
  },
  {
   "cell_type": "code",
   "execution_count": 18,
   "metadata": {},
   "outputs": [],
   "source": [
    "data['disbursemet_year'] = data['disbursemet_date'].dt.year\n",
    "data['disbursemet_month'] = data['disbursemet_date'].dt.month\n",
    "data['disbursemet_day'] = data['disbursemet_date'].dt.day"
   ]
  },
  {
   "cell_type": "code",
   "execution_count": 19,
   "metadata": {},
   "outputs": [
    {
     "data": {
      "text/html": [
       "<div>\n",
       "<style scoped>\n",
       "    .dataframe tbody tr th:only-of-type {\n",
       "        vertical-align: middle;\n",
       "    }\n",
       "\n",
       "    .dataframe tbody tr th {\n",
       "        vertical-align: top;\n",
       "    }\n",
       "\n",
       "    .dataframe thead th {\n",
       "        text-align: right;\n",
       "    }\n",
       "</style>\n",
       "<table border=\"1\" class=\"dataframe\">\n",
       "  <thead>\n",
       "    <tr style=\"text-align: right;\">\n",
       "      <th></th>\n",
       "      <th>unnamed:_0</th>\n",
       "      <th>loan_id</th>\n",
       "      <th>gender</th>\n",
       "      <th>disbursemet_date</th>\n",
       "      <th>currency</th>\n",
       "      <th>country</th>\n",
       "      <th>sex</th>\n",
       "      <th>is_employed</th>\n",
       "      <th>job</th>\n",
       "      <th>location</th>\n",
       "      <th>...</th>\n",
       "      <th>outstanding_balance</th>\n",
       "      <th>interest_rate</th>\n",
       "      <th>age</th>\n",
       "      <th>remaining_term</th>\n",
       "      <th>salary</th>\n",
       "      <th>marital_status</th>\n",
       "      <th>loan_status</th>\n",
       "      <th>disbursemet_year</th>\n",
       "      <th>disbursemet_month</th>\n",
       "      <th>disbursemet_day</th>\n",
       "    </tr>\n",
       "  </thead>\n",
       "  <tbody>\n",
       "    <tr>\n",
       "      <th>0</th>\n",
       "      <td>0</td>\n",
       "      <td>8d05de78-ff32-46b1-aeb5-b3190f9c158a</td>\n",
       "      <td>female</td>\n",
       "      <td>2022-10-29</td>\n",
       "      <td>USD</td>\n",
       "      <td>zimbabwe</td>\n",
       "      <td>female</td>\n",
       "      <td>True</td>\n",
       "      <td>Teacher</td>\n",
       "      <td>Beitbridge</td>\n",
       "      <td>...</td>\n",
       "      <td>48653.011473</td>\n",
       "      <td>0.22</td>\n",
       "      <td>37</td>\n",
       "      <td>47</td>\n",
       "      <td>3230.038869</td>\n",
       "      <td>married</td>\n",
       "      <td>Did not default</td>\n",
       "      <td>2022</td>\n",
       "      <td>10</td>\n",
       "      <td>29</td>\n",
       "    </tr>\n",
       "  </tbody>\n",
       "</table>\n",
       "<p>1 rows × 22 columns</p>\n",
       "</div>"
      ],
      "text/plain": [
       "   unnamed:_0                               loan_id  gender disbursemet_date  \\\n",
       "0           0  8d05de78-ff32-46b1-aeb5-b3190f9c158a  female       2022-10-29   \n",
       "\n",
       "  currency   country     sex  is_employed      job    location  ...  \\\n",
       "0      USD  zimbabwe  female         True  Teacher  Beitbridge  ...   \n",
       "\n",
       "   outstanding_balance  interest_rate  age  remaining_term       salary  \\\n",
       "0         48653.011473           0.22   37              47  3230.038869   \n",
       "\n",
       "  marital_status      loan_status disbursemet_year disbursemet_month  \\\n",
       "0        married  Did not default             2022                10   \n",
       "\n",
       "   disbursemet_day  \n",
       "0               29  \n",
       "\n",
       "[1 rows x 22 columns]"
      ]
     },
     "execution_count": 19,
     "metadata": {},
     "output_type": "execute_result"
    }
   ],
   "source": [
    "data.head(1)"
   ]
  },
  {
   "cell_type": "markdown",
   "metadata": {},
   "source": [
    "# Counts for Loan Status and Gender\n",
    "\n",
    "## Explanation:\n",
    "* Counts for loan status and gender were computed to provide a comprehensive overview of the distribution of these categorical variables within the dataset. This step aimed to understand the frequency and proportion of different loan statuses and gender categories.\n",
    "\n",
    "## Steps Taken:\n",
    "* 1. Loan Status Counts: The number of occurrences for each loan status category (defaulted or did not default) was calculated to assess the distribution of loan outcomes.\n",
    "* 2. Gender Counts: The frequency of each gender category ( male, female, other) was determined to understand the gender composition within the dataset.\n",
    "\n",
    "## Impact:\n",
    "* By performing counts for loan status and gender, insights into the distribution and imbalance of these categorical variables were obtained. This facilitated an understanding of the representation of loan outcomes and gender diversity within the dataset.\n",
    "\n",
    "## Implementation:\n",
    "* The counts for loan status and gender were implemented using Python's pandas library to generate frequency tables and value counts for the respective categorical variables.\n",
    "\n"
   ]
  },
  {
   "cell_type": "code",
   "execution_count": 20,
   "metadata": {},
   "outputs": [
    {
     "data": {
      "text/plain": [
       "loan_status\n",
       "Did not default    85134\n",
       "Defaulted          14866\n",
       "Name: count, dtype: int64"
      ]
     },
     "execution_count": 20,
     "metadata": {},
     "output_type": "execute_result"
    }
   ],
   "source": [
    "data['loan_status'].value_counts()"
   ]
  },
  {
   "cell_type": "code",
   "execution_count": 21,
   "metadata": {},
   "outputs": [],
   "source": [
    "loan_status = {'Did not default':0,'Defaulted':1}\n",
    "data['loan_status'] = data['loan_status'].map(loan_status)"
   ]
  },
  {
   "cell_type": "code",
   "execution_count": 22,
   "metadata": {},
   "outputs": [
    {
     "data": {
      "text/plain": [
       "loan_status\n",
       "0    85134\n",
       "1    14866\n",
       "Name: count, dtype: int64"
      ]
     },
     "execution_count": 22,
     "metadata": {},
     "output_type": "execute_result"
    }
   ],
   "source": [
    "default_loan_vs_not_default=data['loan_status'].value_counts()\n",
    "default_loan_vs_not_default"
   ]
  },
  {
   "cell_type": "markdown",
   "metadata": {},
   "source": [
    "85134 not default loan and 14866 defaulted loan"
   ]
  },
  {
   "cell_type": "code",
   "execution_count": 23,
   "metadata": {},
   "outputs": [
    {
     "data": {
      "text/html": [
       "<div>\n",
       "<style scoped>\n",
       "    .dataframe tbody tr th:only-of-type {\n",
       "        vertical-align: middle;\n",
       "    }\n",
       "\n",
       "    .dataframe tbody tr th {\n",
       "        vertical-align: top;\n",
       "    }\n",
       "\n",
       "    .dataframe thead th {\n",
       "        text-align: right;\n",
       "    }\n",
       "</style>\n",
       "<table border=\"1\" class=\"dataframe\">\n",
       "  <thead>\n",
       "    <tr style=\"text-align: right;\">\n",
       "      <th></th>\n",
       "      <th>unnamed:_0</th>\n",
       "      <th>loan_id</th>\n",
       "      <th>gender</th>\n",
       "      <th>disbursemet_date</th>\n",
       "      <th>currency</th>\n",
       "      <th>country</th>\n",
       "      <th>sex</th>\n",
       "      <th>is_employed</th>\n",
       "      <th>job</th>\n",
       "      <th>location</th>\n",
       "      <th>...</th>\n",
       "      <th>outstanding_balance</th>\n",
       "      <th>interest_rate</th>\n",
       "      <th>age</th>\n",
       "      <th>remaining_term</th>\n",
       "      <th>salary</th>\n",
       "      <th>marital_status</th>\n",
       "      <th>loan_status</th>\n",
       "      <th>disbursemet_year</th>\n",
       "      <th>disbursemet_month</th>\n",
       "      <th>disbursemet_day</th>\n",
       "    </tr>\n",
       "  </thead>\n",
       "  <tbody>\n",
       "    <tr>\n",
       "      <th>0</th>\n",
       "      <td>0</td>\n",
       "      <td>8d05de78-ff32-46b1-aeb5-b3190f9c158a</td>\n",
       "      <td>female</td>\n",
       "      <td>2022-10-29</td>\n",
       "      <td>USD</td>\n",
       "      <td>zimbabwe</td>\n",
       "      <td>female</td>\n",
       "      <td>True</td>\n",
       "      <td>Teacher</td>\n",
       "      <td>Beitbridge</td>\n",
       "      <td>...</td>\n",
       "      <td>48653.011473</td>\n",
       "      <td>0.22</td>\n",
       "      <td>37</td>\n",
       "      <td>47</td>\n",
       "      <td>3230.038869</td>\n",
       "      <td>married</td>\n",
       "      <td>0</td>\n",
       "      <td>2022</td>\n",
       "      <td>10</td>\n",
       "      <td>29</td>\n",
       "    </tr>\n",
       "  </tbody>\n",
       "</table>\n",
       "<p>1 rows × 22 columns</p>\n",
       "</div>"
      ],
      "text/plain": [
       "   unnamed:_0                               loan_id  gender disbursemet_date  \\\n",
       "0           0  8d05de78-ff32-46b1-aeb5-b3190f9c158a  female       2022-10-29   \n",
       "\n",
       "  currency   country     sex  is_employed      job    location  ...  \\\n",
       "0      USD  zimbabwe  female         True  Teacher  Beitbridge  ...   \n",
       "\n",
       "   outstanding_balance  interest_rate  age  remaining_term       salary  \\\n",
       "0         48653.011473           0.22   37              47  3230.038869   \n",
       "\n",
       "  marital_status  loan_status disbursemet_year  disbursemet_month  \\\n",
       "0        married            0             2022                 10   \n",
       "\n",
       "   disbursemet_day  \n",
       "0               29  \n",
       "\n",
       "[1 rows x 22 columns]"
      ]
     },
     "execution_count": 23,
     "metadata": {},
     "output_type": "execute_result"
    }
   ],
   "source": [
    "data.head(1)"
   ]
  },
  {
   "cell_type": "code",
   "execution_count": 24,
   "metadata": {},
   "outputs": [
    {
     "data": {
      "text/plain": [
       "Index(['unnamed:_0', 'loan_id', 'gender', 'disbursemet_date', 'currency',\n",
       "       'country', 'sex', 'is_employed', 'job', 'location', 'loan_amount',\n",
       "       'number_of_defaults', 'outstanding_balance', 'interest_rate', 'age',\n",
       "       'remaining_term', 'salary', 'marital_status', 'loan_status',\n",
       "       'disbursemet_year', 'disbursemet_month', 'disbursemet_day'],\n",
       "      dtype='object')"
      ]
     },
     "execution_count": 24,
     "metadata": {},
     "output_type": "execute_result"
    }
   ],
   "source": [
    "data.columns"
   ]
  },
  {
   "cell_type": "code",
   "execution_count": 25,
   "metadata": {},
   "outputs": [
    {
     "data": {
      "text/plain": [
       "0        47\n",
       "1        62\n",
       "2        57\n",
       "3        42\n",
       "4        45\n",
       "         ..\n",
       "99995    29\n",
       "99996    57\n",
       "99997    53\n",
       "99998    59\n",
       "99999    47\n",
       "Name: remaining_term, Length: 100000, dtype: object"
      ]
     },
     "execution_count": 25,
     "metadata": {},
     "output_type": "execute_result"
    }
   ],
   "source": [
    "data['remaining_term'].str.split('_').str.get(0)"
   ]
  },
  {
   "cell_type": "code",
   "execution_count": 26,
   "metadata": {},
   "outputs": [],
   "source": [
    "data['remaining_term'] = data['remaining_term'].str.split('_').str.get(0)"
   ]
  },
  {
   "cell_type": "code",
   "execution_count": 27,
   "metadata": {},
   "outputs": [],
   "source": [
    "data['remaining_term'] = pd.to_numeric(data['remaining_term'],errors='coerce')"
   ]
  },
  {
   "cell_type": "code",
   "execution_count": 28,
   "metadata": {},
   "outputs": [
    {
     "data": {
      "text/plain": [
       "Index(['loan_id', 'gender', 'currency', 'country', 'sex', 'job', 'location',\n",
       "       'marital_status'],\n",
       "      dtype='object')"
      ]
     },
     "execution_count": 28,
     "metadata": {},
     "output_type": "execute_result"
    }
   ],
   "source": [
    "data.select_dtypes(include='object').columns"
   ]
  },
  {
   "cell_type": "code",
   "execution_count": 29,
   "metadata": {},
   "outputs": [
    {
     "data": {
      "text/plain": [
       "sex\n",
       "male      35028\n",
       "female    32685\n",
       "other     32287\n",
       "Name: count, dtype: int64"
      ]
     },
     "execution_count": 29,
     "metadata": {},
     "output_type": "execute_result"
    }
   ],
   "source": [
    "data['sex'].value_counts()"
   ]
  },
  {
   "cell_type": "code",
   "execution_count": 30,
   "metadata": {},
   "outputs": [
    {
     "data": {
      "text/plain": [
       "gender\n",
       "male      35028\n",
       "female    32685\n",
       "other     32287\n",
       "Name: count, dtype: int64"
      ]
     },
     "execution_count": 30,
     "metadata": {},
     "output_type": "execute_result"
    }
   ],
   "source": [
    "data['gender'].value_counts()"
   ]
  },
  {
   "cell_type": "markdown",
   "metadata": {},
   "source": [
    "# DISTRIBUTION OF NUMERICAL FEATURES\n",
    "\n",
    "\n",
    "## Dataset Exploration:\n",
    "* The dataset was explored to gain insights into feature distributions, correlations, and potential patterns. The following steps were undertaken to analyze the data:\n",
    "\n",
    "## Histograms of Numerical Features:\n",
    "* Histograms were plotted to visualize the distributions of numerical features, including loan_amount, outstanding balance, interest rate, age, and remaining term. This allowed for the examination of the frequency and spread of values within each numerical variable, providing insights into their distributional characteristics.\n",
    "\n",
    "# Scatter Plot with Loan Status Legend:\n",
    "* A scatter plot was generated to show the relationship between loan amount and outstanding balance, with loan status represented as the legend. This visualization allowed for the examination of potential patterns or trends in the relationship between loan amount, outstanding balance, and loan status, providing insights into the distribution of loan defaults across different values of loan amount and outstanding balance.\n",
    "\n",
    "## Observations:\n",
    "* The histograms revealed the distributional characteristics of numerical features, showcasing their spread and frequency of occurrence.\n",
    "* The scatter plot with loan status as the legend demonstrated the relationship between loan amount, outstanding balance, and loan status, offering insights into the distribution of loan defaults across different values of loan amount and outstanding balance.\n",
    "\n",
    "## Conclusion:\n",
    "* The EDA process provided valuable insights into the dataset, including feature distributions, key relationships, and potential predictors of loan default. These findings will inform the development of a predictive model to estimate the probability of default on loans, contributing to risk management and strategic planning in the financial domain.\n"
   ]
  },
  {
   "cell_type": "code",
   "execution_count": 31,
   "metadata": {},
   "outputs": [
    {
     "data": {
      "image/png": "[encoded data removed]",
      "text/plain": [
       "<Figure size 1500x1000 with 6 Axes>"
      ]
     },
     "metadata": {},
     "output_type": "display_data"
    }
   ],
   "source": [
    "# Distributions of numerical features\n",
    "import matplotlib.pyplot as plt\n",
    "import seaborn as sns\n",
    "\n",
    "numerical_features = ['loan_amount', 'outstanding_balance', 'interest_rate', 'age', 'remaining_term', 'salary']\n",
    "data[numerical_features].hist(bins=20, figsize=(15, 10))\n",
    "plt.suptitle('Histograms of Numerical Features')\n",
    "plt.show()\n",
    "\n",
    "\n"
   ]
  },
  {
   "cell_type": "code",
   "execution_count": 32,
   "metadata": {},
   "outputs": [
    {
     "data": {
      "image/png": "[encoded data removed]",
      "text/plain": [
       "<Figure size 800x600 with 1 Axes>"
      ]
     },
     "metadata": {},
     "output_type": "display_data"
    }
   ],
   "source": [
    "# Visualize relationships between features\n",
    "# Relationship between loan_amount and outstanding_balance\n",
    "plt.figure(figsize=(8, 6))\n",
    "sns.scatterplot(data=data, x='loan_amount', y='outstanding_balance', hue='loan_status')\n",
    "plt.title('Relationship between Loan Amount and Outstanding Balance')\n",
    "plt.xlabel('Loan Amount')\n",
    "plt.ylabel('Outstanding Balance')\n",
    "plt.show()\n"
   ]
  },
  {
   "cell_type": "markdown",
   "metadata": {},
   "source": [
    "### Encoding Categorical Values"
   ]
  },
  {
   "cell_type": "markdown",
   "metadata": {},
   "source": [
    "# Data Preprocessing and Correlation Analysis Summary\n",
    "\n",
    "## Data Encoding:\n",
    "* Categorical data such as gender, job, location, and marital status were encoded to convert them into numerical format. This preprocessing step was essential for including categorical variables in the correlation analysis and predictive modeling process.\n",
    "\n",
    "## Correlation Matrix against Loan Status:\n",
    "* After encoding the categorical data, a correlation matrix was computed to assess the relationships between all features, including both numerical and encoded categorical variables, against the target variable \"loan status.\" This analysis provided insights into the potential associations between all input features and the loan status outcomes, helping to identify potential predictors of loan default and their strength of association.\n",
    "\n",
    "## Conclusion:\n",
    "* The encoding of categorical data and the subsequent correlation analysis against loan status have provided valuable insights into the relationships between all input features and the target variable. These findings will be instrumental in the development of a predictive model to estimate the probability of default on loans, contributing to risk management and strategic planning in the financial domain.\n"
   ]
  },
  {
   "cell_type": "code",
   "execution_count": 33,
   "metadata": {},
   "outputs": [],
   "source": [
    "#default rate\n",
    "data['default_rate'] = data.loc[:,'number_of_defaults'] /data.loc[:,'loan_amount']"
   ]
  },
  {
   "cell_type": "code",
   "execution_count": 34,
   "metadata": {},
   "outputs": [],
   "source": [
    "#loan_to_value_ratio\n",
    "data['loan_to_value_ratio'] = data.loc[:,'outstanding_balance'] /data.loc[:,'loan_amount']"
   ]
  },
  {
   "cell_type": "code",
   "execution_count": 35,
   "metadata": {},
   "outputs": [
    {
     "data": {
      "text/html": [
       "<div>\n",
       "<style scoped>\n",
       "    .dataframe tbody tr th:only-of-type {\n",
       "        vertical-align: middle;\n",
       "    }\n",
       "\n",
       "    .dataframe tbody tr th {\n",
       "        vertical-align: top;\n",
       "    }\n",
       "\n",
       "    .dataframe thead th {\n",
       "        text-align: right;\n",
       "    }\n",
       "</style>\n",
       "<table border=\"1\" class=\"dataframe\">\n",
       "  <thead>\n",
       "    <tr style=\"text-align: right;\">\n",
       "      <th></th>\n",
       "      <th>unnamed:_0</th>\n",
       "      <th>loan_id</th>\n",
       "      <th>gender</th>\n",
       "      <th>disbursemet_date</th>\n",
       "      <th>currency</th>\n",
       "      <th>country</th>\n",
       "      <th>sex</th>\n",
       "      <th>is_employed</th>\n",
       "      <th>job</th>\n",
       "      <th>location</th>\n",
       "      <th>...</th>\n",
       "      <th>age</th>\n",
       "      <th>remaining_term</th>\n",
       "      <th>salary</th>\n",
       "      <th>marital_status</th>\n",
       "      <th>loan_status</th>\n",
       "      <th>disbursemet_year</th>\n",
       "      <th>disbursemet_month</th>\n",
       "      <th>disbursemet_day</th>\n",
       "      <th>default_rate</th>\n",
       "      <th>loan_to_value_ratio</th>\n",
       "    </tr>\n",
       "  </thead>\n",
       "  <tbody>\n",
       "    <tr>\n",
       "      <th>0</th>\n",
       "      <td>0</td>\n",
       "      <td>8d05de78-ff32-46b1-aeb5-b3190f9c158a</td>\n",
       "      <td>female</td>\n",
       "      <td>2022-10-29</td>\n",
       "      <td>USD</td>\n",
       "      <td>zimbabwe</td>\n",
       "      <td>female</td>\n",
       "      <td>True</td>\n",
       "      <td>Teacher</td>\n",
       "      <td>Beitbridge</td>\n",
       "      <td>...</td>\n",
       "      <td>37</td>\n",
       "      <td>47</td>\n",
       "      <td>3230.038869</td>\n",
       "      <td>married</td>\n",
       "      <td>0</td>\n",
       "      <td>2022</td>\n",
       "      <td>10</td>\n",
       "      <td>29</td>\n",
       "      <td>0.000000</td>\n",
       "      <td>1.247513</td>\n",
       "    </tr>\n",
       "    <tr>\n",
       "      <th>1</th>\n",
       "      <td>1</td>\n",
       "      <td>368bf756-fcf2-4822-9612-f445d90b485b</td>\n",
       "      <td>other</td>\n",
       "      <td>2020-06-06</td>\n",
       "      <td>USD</td>\n",
       "      <td>zimbabwe</td>\n",
       "      <td>other</td>\n",
       "      <td>True</td>\n",
       "      <td>Teacher</td>\n",
       "      <td>Harare</td>\n",
       "      <td>...</td>\n",
       "      <td>43</td>\n",
       "      <td>62</td>\n",
       "      <td>3194.139103</td>\n",
       "      <td>single</td>\n",
       "      <td>0</td>\n",
       "      <td>2020</td>\n",
       "      <td>6</td>\n",
       "      <td>6</td>\n",
       "      <td>0.000074</td>\n",
       "      <td>1.064891</td>\n",
       "    </tr>\n",
       "    <tr>\n",
       "      <th>2</th>\n",
       "      <td>2</td>\n",
       "      <td>6e3be39e-49b5-45b5-aab6-c6556de53c6f</td>\n",
       "      <td>other</td>\n",
       "      <td>2023-09-29</td>\n",
       "      <td>USD</td>\n",
       "      <td>zimbabwe</td>\n",
       "      <td>other</td>\n",
       "      <td>True</td>\n",
       "      <td>Nurse</td>\n",
       "      <td>Gweru</td>\n",
       "      <td>...</td>\n",
       "      <td>43</td>\n",
       "      <td>57</td>\n",
       "      <td>3330.826656</td>\n",
       "      <td>married</td>\n",
       "      <td>0</td>\n",
       "      <td>2023</td>\n",
       "      <td>9</td>\n",
       "      <td>29</td>\n",
       "      <td>0.000029</td>\n",
       "      <td>1.279930</td>\n",
       "    </tr>\n",
       "    <tr>\n",
       "      <th>3</th>\n",
       "      <td>3</td>\n",
       "      <td>191c62f8-2211-49fe-ba91-43556b307871</td>\n",
       "      <td>female</td>\n",
       "      <td>2022-06-22</td>\n",
       "      <td>USD</td>\n",
       "      <td>zimbabwe</td>\n",
       "      <td>female</td>\n",
       "      <td>True</td>\n",
       "      <td>Doctor</td>\n",
       "      <td>Rusape</td>\n",
       "      <td>...</td>\n",
       "      <td>47</td>\n",
       "      <td>42</td>\n",
       "      <td>2246.797020</td>\n",
       "      <td>divorced</td>\n",
       "      <td>0</td>\n",
       "      <td>2022</td>\n",
       "      <td>6</td>\n",
       "      <td>22</td>\n",
       "      <td>0.000000</td>\n",
       "      <td>1.486729</td>\n",
       "    </tr>\n",
       "    <tr>\n",
       "      <th>4</th>\n",
       "      <td>4</td>\n",
       "      <td>477cd8a1-3b01-4623-9318-8cd6122a8346</td>\n",
       "      <td>male</td>\n",
       "      <td>2023-02-08</td>\n",
       "      <td>USD</td>\n",
       "      <td>zimbabwe</td>\n",
       "      <td>male</td>\n",
       "      <td>True</td>\n",
       "      <td>Nurse</td>\n",
       "      <td>Chipinge</td>\n",
       "      <td>...</td>\n",
       "      <td>42</td>\n",
       "      <td>45</td>\n",
       "      <td>2310.858441</td>\n",
       "      <td>married</td>\n",
       "      <td>0</td>\n",
       "      <td>2023</td>\n",
       "      <td>2</td>\n",
       "      <td>8</td>\n",
       "      <td>0.000000</td>\n",
       "      <td>1.797687</td>\n",
       "    </tr>\n",
       "  </tbody>\n",
       "</table>\n",
       "<p>5 rows × 24 columns</p>\n",
       "</div>"
      ],
      "text/plain": [
       "   unnamed:_0                               loan_id  gender disbursemet_date  \\\n",
       "0           0  8d05de78-ff32-46b1-aeb5-b3190f9c158a  female       2022-10-29   \n",
       "1           1  368bf756-fcf2-4822-9612-f445d90b485b   other       2020-06-06   \n",
       "2           2  6e3be39e-49b5-45b5-aab6-c6556de53c6f   other       2023-09-29   \n",
       "3           3  191c62f8-2211-49fe-ba91-43556b307871  female       2022-06-22   \n",
       "4           4  477cd8a1-3b01-4623-9318-8cd6122a8346    male       2023-02-08   \n",
       "\n",
       "  currency   country     sex  is_employed      job    location  ...  age  \\\n",
       "0      USD  zimbabwe  female         True  Teacher  Beitbridge  ...   37   \n",
       "1      USD  zimbabwe   other         True  Teacher      Harare  ...   43   \n",
       "2      USD  zimbabwe   other         True    Nurse       Gweru  ...   43   \n",
       "3      USD  zimbabwe  female         True   Doctor      Rusape  ...   47   \n",
       "4      USD  zimbabwe    male         True    Nurse    Chipinge  ...   42   \n",
       "\n",
       "   remaining_term       salary  marital_status  loan_status  disbursemet_year  \\\n",
       "0              47  3230.038869         married            0              2022   \n",
       "1              62  3194.139103          single            0              2020   \n",
       "2              57  3330.826656         married            0              2023   \n",
       "3              42  2246.797020        divorced            0              2022   \n",
       "4              45  2310.858441         married            0              2023   \n",
       "\n",
       "   disbursemet_month disbursemet_day  default_rate  loan_to_value_ratio  \n",
       "0                 10              29      0.000000             1.247513  \n",
       "1                  6               6      0.000074             1.064891  \n",
       "2                  9              29      0.000029             1.279930  \n",
       "3                  6              22      0.000000             1.486729  \n",
       "4                  2               8      0.000000             1.797687  \n",
       "\n",
       "[5 rows x 24 columns]"
      ]
     },
     "execution_count": 35,
     "metadata": {},
     "output_type": "execute_result"
    }
   ],
   "source": [
    "data.head(5)"
   ]
  },
  {
   "cell_type": "code",
   "execution_count": 36,
   "metadata": {},
   "outputs": [],
   "source": [
    "from sklearn.preprocessing import LabelEncoder\n",
    "\n",
    "label_encoder = LabelEncoder()\n",
    "data['marital_status'] = label_encoder.fit_transform(data['marital_status'])\n",
    "data['location'] = label_encoder.fit_transform(data['location'])\n",
    "data['gender'] = label_encoder.fit_transform(data['gender'])\n",
    "data['job'] = label_encoder.fit_transform(data['job'])\n",
    "data['loan_status'] = label_encoder.fit_transform(data['loan_status'])\n",
    "data['is_employed'] = label_encoder.fit_transform(data['is_employed'])\n"
   ]
  },
  {
   "cell_type": "code",
   "execution_count": 37,
   "metadata": {},
   "outputs": [],
   "source": [
    "data.drop(['sex','loan_id','currency','country'],axis=1,inplace=True)"
   ]
  },
  {
   "cell_type": "code",
   "execution_count": 38,
   "metadata": {},
   "outputs": [
    {
     "name": "stdout",
     "output_type": "stream",
     "text": [
      "loan_status            1.000000\n",
      "default_rate           0.203585\n",
      "loan_to_value_ratio    0.197251\n",
      "number_of_defaults     0.153259\n",
      "location               0.049479\n",
      "gender                 0.042203\n",
      "disbursemet_year       0.002693\n",
      "disbursemet_date       0.001959\n",
      "remaining_term         0.001119\n",
      "unnamed:_0             0.000421\n",
      "disbursemet_month     -0.002315\n",
      "disbursemet_day       -0.003647\n",
      "job                   -0.013857\n",
      "is_employed           -0.031783\n",
      "marital_status        -0.065132\n",
      "outstanding_balance   -0.093900\n",
      "salary                -0.105489\n",
      "loan_amount           -0.137082\n",
      "age                   -0.176039\n",
      "interest_rate         -0.207767\n",
      "Name: loan_status, dtype: float64\n"
     ]
    }
   ],
   "source": [
    "import pandas as pd\n",
    "import numpy as np\n",
    "\n",
    "\n",
    "correlation_matrix = data.corr()\n",
    "correlation_with_target = correlation_matrix['loan_status'].sort_values(ascending=False)\n",
    "print(correlation_with_target )\n"
   ]
  },
  {
   "cell_type": "code",
   "execution_count": 39,
   "metadata": {},
   "outputs": [],
   "source": [
    "#data.drop(['job', 'location', 'marital_status'],axis=1,inplace=True)"
   ]
  },
  {
   "cell_type": "code",
   "execution_count": 40,
   "metadata": {},
   "outputs": [],
   "source": [
    "#encoding_columns =data['gender', 'currency', 'country', 'sex', 'job', 'location', 'marital_status']"
   ]
  },
  {
   "cell_type": "code",
   "execution_count": 41,
   "metadata": {},
   "outputs": [],
   "source": [
    "#data = pd.concat([data,encoding_columns],axis=1)\n",
    "#data.head(1)"
   ]
  },
  {
   "cell_type": "markdown",
   "metadata": {},
   "source": [
    "## Converting employment status to numeric format\n",
    "*The \"is employed\" column was converted to numeric format using the pd.to_numeric() function with the errors parameter set to 'coerce'. This conversion process was essential for transforming the categorical employment status into a numerical format, enabling further numerical analysis and visualization of employment characteristics within the dataset.\n",
    "\n",
    "##Count Analysis for Is_Employed:\n",
    "* After converting the \"is employed\" column to numeric format, the counts for different employment status categories were computed. This analysis provided insights into the distribution of employment status within the dataset, including the number of employed and unemployed individuals, which is crucial for understanding the employment characteristics and potential impact on loan default outcomes.\n"
   ]
  },
  {
   "cell_type": "code",
   "execution_count": 42,
   "metadata": {},
   "outputs": [],
   "source": [
    "#values = {'True':1,'False':0}\n",
    "#data['is_employed'] = data['is_employed'].map(values)\n",
    "data['is_employed'] = pd.to_numeric(data['is_employed'],errors='coerce')"
   ]
  },
  {
   "cell_type": "code",
   "execution_count": 43,
   "metadata": {},
   "outputs": [
    {
     "data": {
      "text/plain": [
       "is_employed\n",
       "1    95864\n",
       "0     4136\n",
       "Name: count, dtype: int64"
      ]
     },
     "execution_count": 43,
     "metadata": {},
     "output_type": "execute_result"
    }
   ],
   "source": [
    "data['is_employed'].value_counts()"
   ]
  },
  {
   "cell_type": "code",
   "execution_count": 44,
   "metadata": {},
   "outputs": [
    {
     "data": {
      "text/plain": [
       "is_employed\n",
       "1    95864\n",
       "0     4136\n",
       "Name: count, dtype: int64"
      ]
     },
     "execution_count": 44,
     "metadata": {},
     "output_type": "execute_result"
    }
   ],
   "source": [
    "data['is_employed'].value_counts()"
   ]
  },
  {
   "cell_type": "code",
   "execution_count": 45,
   "metadata": {},
   "outputs": [
    {
     "data": {
      "text/plain": [
       "unnamed:_0             0\n",
       "gender                 0\n",
       "disbursemet_date       0\n",
       "is_employed            0\n",
       "job                    0\n",
       "location               0\n",
       "loan_amount            0\n",
       "number_of_defaults     0\n",
       "outstanding_balance    0\n",
       "interest_rate          0\n",
       "age                    0\n",
       "remaining_term         0\n",
       "salary                 0\n",
       "marital_status         0\n",
       "loan_status            0\n",
       "disbursemet_year       0\n",
       "disbursemet_month      0\n",
       "disbursemet_day        0\n",
       "default_rate           0\n",
       "loan_to_value_ratio    0\n",
       "dtype: int64"
      ]
     },
     "execution_count": 45,
     "metadata": {},
     "output_type": "execute_result"
    }
   ],
   "source": [
    "data.isnull().sum()"
   ]
  },
  {
   "cell_type": "code",
   "execution_count": 46,
   "metadata": {},
   "outputs": [
    {
     "data": {
      "text/html": [
       "<div>\n",
       "<style scoped>\n",
       "    .dataframe tbody tr th:only-of-type {\n",
       "        vertical-align: middle;\n",
       "    }\n",
       "\n",
       "    .dataframe tbody tr th {\n",
       "        vertical-align: top;\n",
       "    }\n",
       "\n",
       "    .dataframe thead th {\n",
       "        text-align: right;\n",
       "    }\n",
       "</style>\n",
       "<table border=\"1\" class=\"dataframe\">\n",
       "  <thead>\n",
       "    <tr style=\"text-align: right;\">\n",
       "      <th></th>\n",
       "      <th>unnamed:_0</th>\n",
       "      <th>gender</th>\n",
       "      <th>disbursemet_date</th>\n",
       "      <th>is_employed</th>\n",
       "      <th>job</th>\n",
       "      <th>location</th>\n",
       "      <th>loan_amount</th>\n",
       "      <th>number_of_defaults</th>\n",
       "      <th>outstanding_balance</th>\n",
       "      <th>interest_rate</th>\n",
       "      <th>age</th>\n",
       "      <th>remaining_term</th>\n",
       "      <th>salary</th>\n",
       "      <th>marital_status</th>\n",
       "      <th>loan_status</th>\n",
       "      <th>disbursemet_year</th>\n",
       "      <th>disbursemet_month</th>\n",
       "      <th>disbursemet_day</th>\n",
       "      <th>default_rate</th>\n",
       "      <th>loan_to_value_ratio</th>\n",
       "    </tr>\n",
       "  </thead>\n",
       "  <tbody>\n",
       "    <tr>\n",
       "      <th>0</th>\n",
       "      <td>0</td>\n",
       "      <td>0</td>\n",
       "      <td>2022-10-29</td>\n",
       "      <td>1</td>\n",
       "      <td>8</td>\n",
       "      <td>89</td>\n",
       "      <td>39000.0</td>\n",
       "      <td>0</td>\n",
       "      <td>48653.011473</td>\n",
       "      <td>0.22</td>\n",
       "      <td>37</td>\n",
       "      <td>47</td>\n",
       "      <td>3230.038869</td>\n",
       "      <td>2</td>\n",
       "      <td>0</td>\n",
       "      <td>2022</td>\n",
       "      <td>10</td>\n",
       "      <td>29</td>\n",
       "      <td>0.0</td>\n",
       "      <td>1.247513</td>\n",
       "    </tr>\n",
       "  </tbody>\n",
       "</table>\n",
       "</div>"
      ],
      "text/plain": [
       "   unnamed:_0  gender disbursemet_date  is_employed  job  location  \\\n",
       "0           0       0       2022-10-29            1    8        89   \n",
       "\n",
       "   loan_amount  number_of_defaults  outstanding_balance  interest_rate  age  \\\n",
       "0      39000.0                   0         48653.011473           0.22   37   \n",
       "\n",
       "   remaining_term       salary  marital_status  loan_status  disbursemet_year  \\\n",
       "0              47  3230.038869               2            0              2022   \n",
       "\n",
       "   disbursemet_month  disbursemet_day  default_rate  loan_to_value_ratio  \n",
       "0                 10               29           0.0             1.247513  "
      ]
     },
     "execution_count": 46,
     "metadata": {},
     "output_type": "execute_result"
    }
   ],
   "source": [
    "data.head(1)"
   ]
  },
  {
   "cell_type": "code",
   "execution_count": 47,
   "metadata": {},
   "outputs": [
    {
     "data": {
      "text/plain": [
       "loan_status\n",
       "0    85134\n",
       "1    14866\n",
       "Name: count, dtype: int64"
      ]
     },
     "execution_count": 47,
     "metadata": {},
     "output_type": "execute_result"
    }
   ],
   "source": [
    "data['loan_status'].value_counts()"
   ]
  },
  {
   "cell_type": "markdown",
   "metadata": {},
   "source": [
    "# Feature Selection and Scaling Summary\n",
    "\n",
    "## Feature Selection with Lasso:\n",
    "* Lasso feature selection was utilized to select relevant features for model training. Lasso, a type of regularization technique, is effective in reducing the number of features by shrinking the less important features' coefficients to zero. By applying Lasso feature selection, we were able to identify the most impactful features for predicting the probability of loan default. The selected features were deemed to have a significant influence on loan default prediction based on the Lasso regularization process, which helps in mitigating overfitting and improving model interpretability.\n",
    "\n",
    "## Feature Scaling with StandardScaler:\n",
    "* After selecting the relevant features using Lasso, the features were scaled using the StandardScaler method. StandardScaler was applied to ensure that all input features have a mean of 0 and a standard deviation of 1. This scaling process is crucial for standardizing the range of features, preventing any particular feature from dominating the model training process due to its original magnitude. Additionally, StandardScaler helps in improving the convergence of optimization algorithms and enhances the performance of models that rely on distance-based metrics or regularization.\n",
    "\n",
    "## Conclusion:\n",
    "* The feature selection process involved Lasso regularization to identify the most impactful features for model training, followed by feature scaling using StandardScaler to standardize the feature ranges. These steps were essential for improving the predictive model's performance, interpretability, and generalization to new data.\n"
   ]
  },
  {
   "cell_type": "code",
   "execution_count": 48,
   "metadata": {},
   "outputs": [],
   "source": [
    "X = data.drop(['disbursemet_date','loan_status'],axis=1)\n",
    "y = data['loan_status']"
   ]
  },
  {
   "cell_type": "code",
   "execution_count": 49,
   "metadata": {},
   "outputs": [],
   "source": [
    "from sklearn.model_selection import train_test_split\n",
    "x_train, x_test, y_train, y_test = train_test_split(X,y,test_size=0.33,random_state=42)"
   ]
  },
  {
   "cell_type": "code",
   "execution_count": 50,
   "metadata": {},
   "outputs": [
    {
     "data": {
      "text/plain": [
       "((67000, 18), (33000, 18), (67000,), (33000,))"
      ]
     },
     "execution_count": 50,
     "metadata": {},
     "output_type": "execute_result"
    }
   ],
   "source": [
    "x_train.shape, x_test.shape, y_train.shape, y_test.shape"
   ]
  },
  {
   "cell_type": "code",
   "execution_count": 51,
   "metadata": {},
   "outputs": [
    {
     "name": "stdout",
     "output_type": "stream",
     "text": [
      "[ True False False False  True  True False  True False  True  True  True\n",
      " False False False False False False]\n"
     ]
    }
   ],
   "source": [
    "from sklearn.linear_model import Lasso\n",
    "\n",
    "lasso = Lasso(alpha=0.1) \n",
    "lasso.fit(X, y)\n",
    "selected_features_lasso = lasso.coef_ != 0\n",
    "print(selected_features_lasso)"
   ]
  },
  {
   "cell_type": "code",
   "execution_count": 52,
   "metadata": {},
   "outputs": [
    {
     "data": {
      "text/plain": [
       "Index(['unnamed:_0', 'gender', 'disbursemet_date', 'is_employed', 'job',\n",
       "       'location', 'loan_amount', 'number_of_defaults', 'outstanding_balance',\n",
       "       'interest_rate', 'age', 'remaining_term', 'salary', 'marital_status',\n",
       "       'loan_status', 'disbursemet_year', 'disbursemet_month',\n",
       "       'disbursemet_day', 'default_rate', 'loan_to_value_ratio'],\n",
       "      dtype='object')"
      ]
     },
     "execution_count": 52,
     "metadata": {},
     "output_type": "execute_result"
    }
   ],
   "source": [
    "data.columns"
   ]
  },
  {
   "cell_type": "code",
   "execution_count": 53,
   "metadata": {},
   "outputs": [],
   "source": [
    "X = data[['gender', 'is_employed', 'location', 'loan_amount', 'number_of_defaults', \n",
    "        'outstanding_balance', 'interest_rate', 'age', 'remaining_term']]\n",
    "\n",
    "Y = data['loan_status']"
   ]
  },
  {
   "cell_type": "code",
   "execution_count": 54,
   "metadata": {},
   "outputs": [],
   "source": [
    "#feature scaling\n",
    "from sklearn.preprocessing import StandardScaler\n",
    "sc_x=StandardScaler()\n",
    "x_train=sc_x.fit_transform(x_train)\n",
    "x_test=sc_x.transform(x_test)"
   ]
  },
  {
   "cell_type": "code",
   "execution_count": 55,
   "metadata": {},
   "outputs": [],
   "source": [
    "from sklearn.ensemble import RandomForestClassifier\n",
    "from sklearn.tree import DecisionTreeClassifier\n",
    "from sklearn.svm import SVC\n"
   ]
  },
  {
   "cell_type": "code",
   "execution_count": 56,
   "metadata": {},
   "outputs": [
    {
     "data": {
      "text/html": [
       "<style>#sk-container-id-1 {color: black;background-color: white;}#sk-container-id-1 pre{padding: 0;}#sk-container-id-1 div.sk-toggleable {background-color: white;}#sk-container-id-1 label.sk-toggleable__label {cursor: pointer;display: block;width: 100%;margin-bottom: 0;padding: 0.3em;box-sizing: border-box;text-align: center;}#sk-container-id-1 label.sk-toggleable__label-arrow:before {content: \"▸\";float: left;margin-right: 0.25em;color: #696969;}#sk-container-id-1 label.sk-toggleable__label-arrow:hover:before {color: black;}#sk-container-id-1 div.sk-estimator:hover label.sk-toggleable__label-arrow:before {color: black;}#sk-container-id-1 div.sk-toggleable__content {max-height: 0;max-width: 0;overflow: hidden;text-align: left;background-color: #f0f8ff;}#sk-container-id-1 div.sk-toggleable__content pre {margin: 0.2em;color: black;border-radius: 0.25em;background-color: #f0f8ff;}#sk-container-id-1 input.sk-toggleable__control:checked~div.sk-toggleable__content {max-height: 200px;max-width: 100%;overflow: auto;}#sk-container-id-1 input.sk-toggleable__control:checked~label.sk-toggleable__label-arrow:before {content: \"▾\";}#sk-container-id-1 div.sk-estimator input.sk-toggleable__control:checked~label.sk-toggleable__label {background-color: #d4ebff;}#sk-container-id-1 div.sk-label input.sk-toggleable__control:checked~label.sk-toggleable__label {background-color: #d4ebff;}#sk-container-id-1 input.sk-hidden--visually {border: 0;clip: rect(1px 1px 1px 1px);clip: rect(1px, 1px, 1px, 1px);height: 1px;margin: -1px;overflow: hidden;padding: 0;position: absolute;width: 1px;}#sk-container-id-1 div.sk-estimator {font-family: monospace;background-color: #f0f8ff;border: 1px dotted black;border-radius: 0.25em;box-sizing: border-box;margin-bottom: 0.5em;}#sk-container-id-1 div.sk-estimator:hover {background-color: #d4ebff;}#sk-container-id-1 div.sk-parallel-item::after {content: \"\";width: 100%;border-bottom: 1px solid gray;flex-grow: 1;}#sk-container-id-1 div.sk-label:hover label.sk-toggleable__label {background-color: #d4ebff;}#sk-container-id-1 div.sk-serial::before {content: \"\";position: absolute;border-left: 1px solid gray;box-sizing: border-box;top: 0;bottom: 0;left: 50%;z-index: 0;}#sk-container-id-1 div.sk-serial {display: flex;flex-direction: column;align-items: center;background-color: white;padding-right: 0.2em;padding-left: 0.2em;position: relative;}#sk-container-id-1 div.sk-item {position: relative;z-index: 1;}#sk-container-id-1 div.sk-parallel {display: flex;align-items: stretch;justify-content: center;background-color: white;position: relative;}#sk-container-id-1 div.sk-item::before, #sk-container-id-1 div.sk-parallel-item::before {content: \"\";position: absolute;border-left: 1px solid gray;box-sizing: border-box;top: 0;bottom: 0;left: 50%;z-index: -1;}#sk-container-id-1 div.sk-parallel-item {display: flex;flex-direction: column;z-index: 1;position: relative;background-color: white;}#sk-container-id-1 div.sk-parallel-item:first-child::after {align-self: flex-end;width: 50%;}#sk-container-id-1 div.sk-parallel-item:last-child::after {align-self: flex-start;width: 50%;}#sk-container-id-1 div.sk-parallel-item:only-child::after {width: 0;}#sk-container-id-1 div.sk-dashed-wrapped {border: 1px dashed gray;margin: 0 0.4em 0.5em 0.4em;box-sizing: border-box;padding-bottom: 0.4em;background-color: white;}#sk-container-id-1 div.sk-label label {font-family: monospace;font-weight: bold;display: inline-block;line-height: 1.2em;}#sk-container-id-1 div.sk-label-container {text-align: center;}#sk-container-id-1 div.sk-container {/* jupyter's `normalize.less` sets `[hidden] { display: none; }` but bootstrap.min.css set `[hidden] { display: none !important; }` so we also need the `!important` here to be able to override the default hidden behavior on the sphinx rendered scikit-learn.org. See: https://github.com/scikit-learn/scikit-learn/issues/21755 */display: inline-block !important;position: relative;}#sk-container-id-1 div.sk-text-repr-fallback {display: none;}</style><div id=\"sk-container-id-1\" class=\"sk-top-container\"><div class=\"sk-text-repr-fallback\"><pre>RandomForestClassifier()</pre><b>In a Jupyter environment, please rerun this cell to show the HTML representation or trust the notebook. <br />On GitHub, the HTML representation is unable to render, please try loading this page with nbviewer.org.</b></div><div class=\"sk-container\" hidden><div class=\"sk-item\"><div class=\"sk-estimator sk-toggleable\"><input class=\"sk-toggleable__control sk-hidden--visually\" id=\"sk-estimator-id-1\" type=\"checkbox\" checked><label for=\"sk-estimator-id-1\" class=\"sk-toggleable__label sk-toggleable__label-arrow\">RandomForestClassifier</label><div class=\"sk-toggleable__content\"><pre>RandomForestClassifier()</pre></div></div></div></div></div>"
      ],
      "text/plain": [
       "RandomForestClassifier()"
      ]
     },
     "execution_count": 56,
     "metadata": {},
     "output_type": "execute_result"
    }
   ],
   "source": [
    "random = RandomForestClassifier()\n",
    "random.fit(x_train,y_train)"
   ]
  },
  {
   "cell_type": "code",
   "execution_count": 57,
   "metadata": {},
   "outputs": [
    {
     "data": {
      "text/plain": [
       "array([0, 0, 0, ..., 0, 0, 0], dtype=int64)"
      ]
     },
     "execution_count": 57,
     "metadata": {},
     "output_type": "execute_result"
    }
   ],
   "source": [
    "y_pred = random.predict(x_test)\n",
    "y_pred"
   ]
  },
  {
   "cell_type": "code",
   "execution_count": 58,
   "metadata": {},
   "outputs": [
    {
     "data": {
      "text/html": [
       "<div>\n",
       "<style scoped>\n",
       "    .dataframe tbody tr th:only-of-type {\n",
       "        vertical-align: middle;\n",
       "    }\n",
       "\n",
       "    .dataframe tbody tr th {\n",
       "        vertical-align: top;\n",
       "    }\n",
       "\n",
       "    .dataframe thead th {\n",
       "        text-align: right;\n",
       "    }\n",
       "</style>\n",
       "<table border=\"1\" class=\"dataframe\">\n",
       "  <thead>\n",
       "    <tr style=\"text-align: right;\">\n",
       "      <th></th>\n",
       "      <th>0</th>\n",
       "    </tr>\n",
       "  </thead>\n",
       "  <tbody>\n",
       "    <tr>\n",
       "      <th>0</th>\n",
       "      <td>0</td>\n",
       "    </tr>\n",
       "    <tr>\n",
       "      <th>1</th>\n",
       "      <td>0</td>\n",
       "    </tr>\n",
       "    <tr>\n",
       "      <th>2</th>\n",
       "      <td>0</td>\n",
       "    </tr>\n",
       "    <tr>\n",
       "      <th>3</th>\n",
       "      <td>0</td>\n",
       "    </tr>\n",
       "    <tr>\n",
       "      <th>4</th>\n",
       "      <td>0</td>\n",
       "    </tr>\n",
       "    <tr>\n",
       "      <th>...</th>\n",
       "      <td>...</td>\n",
       "    </tr>\n",
       "    <tr>\n",
       "      <th>32995</th>\n",
       "      <td>1</td>\n",
       "    </tr>\n",
       "    <tr>\n",
       "      <th>32996</th>\n",
       "      <td>0</td>\n",
       "    </tr>\n",
       "    <tr>\n",
       "      <th>32997</th>\n",
       "      <td>0</td>\n",
       "    </tr>\n",
       "    <tr>\n",
       "      <th>32998</th>\n",
       "      <td>0</td>\n",
       "    </tr>\n",
       "    <tr>\n",
       "      <th>32999</th>\n",
       "      <td>0</td>\n",
       "    </tr>\n",
       "  </tbody>\n",
       "</table>\n",
       "<p>33000 rows × 1 columns</p>\n",
       "</div>"
      ],
      "text/plain": [
       "       0\n",
       "0      0\n",
       "1      0\n",
       "2      0\n",
       "3      0\n",
       "4      0\n",
       "...   ..\n",
       "32995  1\n",
       "32996  0\n",
       "32997  0\n",
       "32998  0\n",
       "32999  0\n",
       "\n",
       "[33000 rows x 1 columns]"
      ]
     },
     "execution_count": 58,
     "metadata": {},
     "output_type": "execute_result"
    }
   ],
   "source": [
    "pd.DataFrame(y_pred)"
   ]
  },
  {
   "cell_type": "code",
   "execution_count": 59,
   "metadata": {},
   "outputs": [],
   "source": [
    "from sklearn import metrics\n",
    "\n",
    "\n",
    "def evaluation(y_test, y_pred):\n",
    "    return {\n",
    "        'area_under_curve':metrics.roc_auc_score(y_test,y_pred),\n",
    "        \"accuracy\": metrics.accuracy_score(y_test, y_pred),\n",
    "        \"recall\": metrics.recall_score(y_test, y_pred),\n",
    "        \"precision\": metrics.precision_score(y_test, y_pred),\n",
    "        \"f1_score\": metrics.f1_score(y_test, y_pred),\n",
    "    }"
   ]
  },
  {
   "cell_type": "code",
   "execution_count": 60,
   "metadata": {},
   "outputs": [
    {
     "data": {
      "text/plain": [
       "{'area_under_curve': 1.0,\n",
       " 'accuracy': 1.0,\n",
       " 'recall': 1.0,\n",
       " 'precision': 1.0,\n",
       " 'f1_score': 1.0}"
      ]
     },
     "execution_count": 60,
     "metadata": {},
     "output_type": "execute_result"
    }
   ],
   "source": [
    "evaluation(y_train, random.predict(x_train))"
   ]
  },
  {
   "cell_type": "markdown",
   "metadata": {},
   "source": [
    "### Model Building "
   ]
  },
  {
   "cell_type": "markdown",
   "metadata": {},
   "source": [
    "# Model Training and Hyperparameter Tuning:\n",
    "* To address the problem statement, a variety of machine learning models were trained. The models included RandomForestClassifier, AdaBoostClassifier, ExtraTreesClassifier, GradientBoostingClassifier, LogisticRegression, KNeighborsClassifier, SVC (Support Vector Machine), and XGBClassifier. Hyperparameter tuning is crucial for optimizing the performance of these models by finding the best set of hyperparameters that maximize their predictive capabilities.\n"
   ]
  },
  {
   "cell_type": "code",
   "execution_count": 61,
   "metadata": {},
   "outputs": [],
   "source": [
    "from sklearn.ensemble import AdaBoostClassifier,ExtraTreesClassifier,GradientBoostingClassifier\n",
    "from sklearn.linear_model import LogisticRegression\n",
    "from sklearn.neighbors import KNeighborsClassifier\n",
    "import xgboost\n",
    "from sklearn.model_selection import GridSearchCV\n",
    "from sklearn.ensemble import RandomForestClassifier\n",
    "from sklearn.tree import DecisionTreeClassifier\n",
    "from sklearn.svm import SVC\n",
    "\n",
    "\n",
    "models = {\n",
    "    \"random_forest\": RandomForestClassifier(),\n",
    "    \"adaboost\": AdaBoostClassifier(),\n",
    "    \"extra_trees\": ExtraTreesClassifier(),\n",
    "    \"gradient_boosting\": GradientBoostingClassifier(),\n",
    "    \"logistic_regression\": LogisticRegression(max_iter=1000),\n",
    "    \"k_nearest_neighbors\": KNeighborsClassifier(),\n",
    "    \"support_vector_machine\": SVC(),\n",
    "    \"xgboost\": xgboost.XGBClassifier(),\n",
    "}"
   ]
  },
  {
   "cell_type": "code",
   "execution_count": 62,
   "metadata": {},
   "outputs": [],
   "source": [
    "from sklearn.model_selection import train_test_split\n",
    "x_train, x_test, y_train, y_test = train_test_split(X,y,test_size=0.33,random_state=42)"
   ]
  },
  {
   "cell_type": "markdown",
   "metadata": {},
   "source": [
    "# Cross-Validation:\n",
    "* To assess the performance of the trained models, cross-validation was performed using the F1 AUC-ROC method. This method combines the F1 score, which considers both precision and recall, with the AUC-ROC, providing a comprehensive evaluation of the models' predictive capabilities. By leveraging the F1 AUC-ROC cross-validation method, we aim to determine the models' effectiveness in estimating the probability of loan default and identify the most suitable model for risk management and strategic planning in the context of loan defaults.\n",
    "\n",
    "## Conclusion:\n",
    "* The trained models, along with the results from cross-validation using the F1 AUC-ROC method, provide valuable insights into their predictive performance for estimating the probability of loan default. By evaluating a diverse set of models and leveraging the F1 AUC-ROC cross-validation method, we aim to develop robust and accurate predictive models that can assist financial institutions in managing the risks associated with loan defaults and informing strategic decision-making.\n"
   ]
  },
  {
   "cell_type": "code",
   "execution_count": 64,
   "metadata": {},
   "outputs": [
    {
     "name": "stdout",
     "output_type": "stream",
     "text": [
      "                        f1_scores\n",
      "random_forest            0.847105\n",
      "adaboost                 0.811782\n",
      "extra_trees              0.840634\n",
      "gradient_boosting        0.854988\n",
      "logistic_regression      0.656316\n",
      "k_nearest_neighbors      0.576837\n",
      "support_vector_machine   0.592634\n",
      "xgboost                  0.865454\n"
     ]
    }
   ],
   "source": [
    "from sklearn.model_selection import cross_validate\n",
    "from joblib import Parallel, delayed\n",
    "\n",
    "# Define the function to calculate the area under the curve for each model\n",
    "def calculate_auc(model_name, model, x_train, y_train):\n",
    "    auc = cross_validate(model, x_train, y_train, cv=5, scoring=\"roc_auc\")\n",
    "    return model_name, auc[\"test_score\"].mean()\n",
    "\n",
    "# Create a list of delayed evaluation functions for each model\n",
    "tasks = [delayed(calculate_auc)(model_name, model, x_train, y_train) for model_name, model in models.items()]\n",
    "\n",
    "# Execute the tasks in parallel using multiple cores\n",
    "results = Parallel(n_jobs=-1)(tasks)\n",
    "\n",
    "# Create a DataFrame with the results\n",
    "area_under_curve = pd.DataFrame({model_name: mean_auc for model_name, mean_auc in results}, index=['f1_scores']).T\n",
    "\n",
    "# Print the DataFrame\n",
    "print(area_under_curve)"
   ]
  },
  {
   "cell_type": "markdown",
   "metadata": {},
   "source": [
    "# Hyperparameter Tuning:\n",
    "* Hyperparameter tuning is a crucial step in optimizing the performance of machine learning models. In this project, hyperparameter tuning was performed using Bayesian optimization, specifically through the implementation of Bayesian optimization search.\n",
    "\n",
    "## Bayesian Optimization:\n",
    "* Bayesian optimization is a powerful technique for hyperparameter tuning that leverages probabilistic models to efficiently search for the optimal set of hyperparameters. By iteratively evaluating the performance of the model with different hyperparameter configurations and updating the probabilistic model, Bayesian optimization effectively navigates the hyperparameter space to find the best combination for maximizing the model's predictive performance.\n",
    "\n"
   ]
  },
  {
   "cell_type": "code",
   "execution_count": 66,
   "metadata": {},
   "outputs": [],
   "source": [
    "import pandas as pd\n",
    "from sklearn.model_selection import cross_validate, cross_val_score, KFold, StratifiedKFold, LeaveOneOut\n",
    "import numpy as np\n",
    "from skopt import BayesSearchCV\n",
    "from skopt.space import Real, Categorical, Integer\n",
    "\n",
    "\n",
    "\n",
    "\n",
    "\n",
    "\n",
    "\n",
    "\n",
    "\n"
   ]
  },
  {
   "cell_type": "code",
   "execution_count": 67,
   "metadata": {},
   "outputs": [],
   "source": [
    "#Define the hyperparameter search space for each model\n",
    "param_spaces = {\n",
    "    \"random_forest\": {\n",
    "        \"n_estimators\": Integer(100, 300),\n",
    "        \"max_depth\": Integer(10, 30),\n",
    "        \"min_samples_split\": Integer(2, 10),\n",
    "        \"min_samples_leaf\": Integer(1, 4),\n",
    "        \"bootstrap\": Categorical([True, False])\n",
    "    },\n",
    "    \"adaboost\": {\n",
    "        \"n_estimators\": Integer(50, 200),\n",
    "        \"learning_rate\": Real(0.01, 1.0, prior='log-uniform')\n",
    "    },\n",
    "    \"extra_trees\": {\n",
    "        \"n_estimators\": Integer(100, 300),\n",
    "        \"max_depth\": Integer(10, 30),\n",
    "        \"min_samples_split\": Integer(2, 10),\n",
    "        \"min_samples_leaf\": Integer(1, 4),\n",
    "        \"bootstrap\": Categorical([True, False])\n",
    "    },\n",
    "    \"gradient_boosting\": {\n",
    "        \"n_estimators\": Integer(100, 300),\n",
    "        \"learning_rate\": Real(0.01, 1.0, prior='log-uniform'),\n",
    "        \"max_depth\": Integer(3, 7)\n",
    "    },\n",
    "    \"logistic_regression\": {\n",
    "        \"C\": Real(1e-3, 1e2, prior='log-uniform'),\n",
    "        \"penalty\": Categorical(['l1', 'l2'])\n",
    "    },\n",
    "    \"k_nearest_neighbors\": {\n",
    "        \"n_neighbors\": Integer(3, 7),\n",
    "        \"weights\": Categorical(['uniform', 'distance']),\n",
    "        \"p\": Integer(1, 2)\n",
    "    },\n",
    "    \"support_vector_machine\": {\n",
    "        \"C\": Real(0.1, 10.0, prior='log-uniform'),\n",
    "        \"gamma\": Real(0.001, 0.1, prior='log-uniform'),\n",
    "        \"kernel\": Categorical(['linear', 'rbf'])\n",
    "    },\n",
    "    \"xgboost\": {\n",
    "        \"n_estimators\": Integer(100, 300),\n",
    "        \"learning_rate\": Real(0.01, 0.2, prior='log-uniform'),\n",
    "        \"max_depth\": Integer(3, 7)\n",
    "    }\n",
    "}\n"
   ]
  },
  {
   "cell_type": "code",
   "execution_count": 68,
   "metadata": {},
   "outputs": [
    {
     "name": "stdout",
     "output_type": "stream",
     "text": [
      "Model: random_forest\n",
      "Model: adaboost\n",
      "Model: extra_trees\n",
      "Model: gradient_boosting\n",
      "Model: logistic_regression\n",
      "Model: k_nearest_neighbors\n",
      "Model: support_vector_machine\n",
      "Model: xgboost\n"
     ]
    }
   ],
   "source": [
    "#Perform Bayesian Optimization for each model\n",
    "for model_name, model in models.items():\n",
    "    print(f\"Model: {model_name}\")\n",
    "    "
   ]
  },
  {
   "cell_type": "code",
   "execution_count": 69,
   "metadata": {},
   "outputs": [],
   "source": [
    "opt = BayesSearchCV(\n",
    "        model,\n",
    "        search_spaces=param_spaces[model_name],\n",
    "        n_iter=32,  # Adjust the number of iterations as needed\n",
    "        cv=5,\n",
    "        scoring='f1',\n",
    "        n_jobs=-1  # Utilize all available CPU cores\n",
    "    )"
   ]
  },
  {
   "cell_type": "code",
   "execution_count": 70,
   "metadata": {},
   "outputs": [
    {
     "data": {
      "text/html": [
       "<style>#sk-container-id-2 {color: black;background-color: white;}#sk-container-id-2 pre{padding: 0;}#sk-container-id-2 div.sk-toggleable {background-color: white;}#sk-container-id-2 label.sk-toggleable__label {cursor: pointer;display: block;width: 100%;margin-bottom: 0;padding: 0.3em;box-sizing: border-box;text-align: center;}#sk-container-id-2 label.sk-toggleable__label-arrow:before {content: \"▸\";float: left;margin-right: 0.25em;color: #696969;}#sk-container-id-2 label.sk-toggleable__label-arrow:hover:before {color: black;}#sk-container-id-2 div.sk-estimator:hover label.sk-toggleable__label-arrow:before {color: black;}#sk-container-id-2 div.sk-toggleable__content {max-height: 0;max-width: 0;overflow: hidden;text-align: left;background-color: #f0f8ff;}#sk-container-id-2 div.sk-toggleable__content pre {margin: 0.2em;color: black;border-radius: 0.25em;background-color: #f0f8ff;}#sk-container-id-2 input.sk-toggleable__control:checked~div.sk-toggleable__content {max-height: 200px;max-width: 100%;overflow: auto;}#sk-container-id-2 input.sk-toggleable__control:checked~label.sk-toggleable__label-arrow:before {content: \"▾\";}#sk-container-id-2 div.sk-estimator input.sk-toggleable__control:checked~label.sk-toggleable__label {background-color: #d4ebff;}#sk-container-id-2 div.sk-label input.sk-toggleable__control:checked~label.sk-toggleable__label {background-color: #d4ebff;}#sk-container-id-2 input.sk-hidden--visually {border: 0;clip: rect(1px 1px 1px 1px);clip: rect(1px, 1px, 1px, 1px);height: 1px;margin: -1px;overflow: hidden;padding: 0;position: absolute;width: 1px;}#sk-container-id-2 div.sk-estimator {font-family: monospace;background-color: #f0f8ff;border: 1px dotted black;border-radius: 0.25em;box-sizing: border-box;margin-bottom: 0.5em;}#sk-container-id-2 div.sk-estimator:hover {background-color: #d4ebff;}#sk-container-id-2 div.sk-parallel-item::after {content: \"\";width: 100%;border-bottom: 1px solid gray;flex-grow: 1;}#sk-container-id-2 div.sk-label:hover label.sk-toggleable__label {background-color: #d4ebff;}#sk-container-id-2 div.sk-serial::before {content: \"\";position: absolute;border-left: 1px solid gray;box-sizing: border-box;top: 0;bottom: 0;left: 50%;z-index: 0;}#sk-container-id-2 div.sk-serial {display: flex;flex-direction: column;align-items: center;background-color: white;padding-right: 0.2em;padding-left: 0.2em;position: relative;}#sk-container-id-2 div.sk-item {position: relative;z-index: 1;}#sk-container-id-2 div.sk-parallel {display: flex;align-items: stretch;justify-content: center;background-color: white;position: relative;}#sk-container-id-2 div.sk-item::before, #sk-container-id-2 div.sk-parallel-item::before {content: \"\";position: absolute;border-left: 1px solid gray;box-sizing: border-box;top: 0;bottom: 0;left: 50%;z-index: -1;}#sk-container-id-2 div.sk-parallel-item {display: flex;flex-direction: column;z-index: 1;position: relative;background-color: white;}#sk-container-id-2 div.sk-parallel-item:first-child::after {align-self: flex-end;width: 50%;}#sk-container-id-2 div.sk-parallel-item:last-child::after {align-self: flex-start;width: 50%;}#sk-container-id-2 div.sk-parallel-item:only-child::after {width: 0;}#sk-container-id-2 div.sk-dashed-wrapped {border: 1px dashed gray;margin: 0 0.4em 0.5em 0.4em;box-sizing: border-box;padding-bottom: 0.4em;background-color: white;}#sk-container-id-2 div.sk-label label {font-family: monospace;font-weight: bold;display: inline-block;line-height: 1.2em;}#sk-container-id-2 div.sk-label-container {text-align: center;}#sk-container-id-2 div.sk-container {/* jupyter's `normalize.less` sets `[hidden] { display: none; }` but bootstrap.min.css set `[hidden] { display: none !important; }` so we also need the `!important` here to be able to override the default hidden behavior on the sphinx rendered scikit-learn.org. See: https://github.com/scikit-learn/scikit-learn/issues/21755 */display: inline-block !important;position: relative;}#sk-container-id-2 div.sk-text-repr-fallback {display: none;}</style><div id=\"sk-container-id-2\" class=\"sk-top-container\"><div class=\"sk-text-repr-fallback\"><pre>BayesSearchCV(cv=5,\n",
       "              estimator=XGBClassifier(base_score=None, booster=None,\n",
       "                                      callbacks=None, colsample_bylevel=None,\n",
       "                                      colsample_bynode=None,\n",
       "                                      colsample_bytree=None, device=None,\n",
       "                                      early_stopping_rounds=None,\n",
       "                                      enable_categorical=False,\n",
       "                                      eval_metric=None, feature_types=None,\n",
       "                                      gamma=None, grow_policy=None,\n",
       "                                      importance_type=None,\n",
       "                                      interaction_constraints=None,\n",
       "                                      learning_rate=None...\n",
       "                                      multi_strategy=None, n_estimators=None,\n",
       "                                      n_jobs=None, num_parallel_tree=None,\n",
       "                                      random_state=None, ...),\n",
       "              n_iter=32, n_jobs=-1, scoring=&#x27;f1&#x27;,\n",
       "              search_spaces={&#x27;learning_rate&#x27;: Real(low=0.01, high=0.2, prior=&#x27;log-uniform&#x27;, transform=&#x27;normalize&#x27;),\n",
       "                             &#x27;max_depth&#x27;: Integer(low=3, high=7, prior=&#x27;uniform&#x27;, transform=&#x27;normalize&#x27;),\n",
       "                             &#x27;n_estimators&#x27;: Integer(low=100, high=300, prior=&#x27;uniform&#x27;, transform=&#x27;normalize&#x27;)})</pre><b>In a Jupyter environment, please rerun this cell to show the HTML representation or trust the notebook. <br />On GitHub, the HTML representation is unable to render, please try loading this page with nbviewer.org.</b></div><div class=\"sk-container\" hidden><div class=\"sk-item sk-dashed-wrapped\"><div class=\"sk-label-container\"><div class=\"sk-label sk-toggleable\"><input class=\"sk-toggleable__control sk-hidden--visually\" id=\"sk-estimator-id-2\" type=\"checkbox\" ><label for=\"sk-estimator-id-2\" class=\"sk-toggleable__label sk-toggleable__label-arrow\">BayesSearchCV</label><div class=\"sk-toggleable__content\"><pre>BayesSearchCV(cv=5,\n",
       "              estimator=XGBClassifier(base_score=None, booster=None,\n",
       "                                      callbacks=None, colsample_bylevel=None,\n",
       "                                      colsample_bynode=None,\n",
       "                                      colsample_bytree=None, device=None,\n",
       "                                      early_stopping_rounds=None,\n",
       "                                      enable_categorical=False,\n",
       "                                      eval_metric=None, feature_types=None,\n",
       "                                      gamma=None, grow_policy=None,\n",
       "                                      importance_type=None,\n",
       "                                      interaction_constraints=None,\n",
       "                                      learning_rate=None...\n",
       "                                      multi_strategy=None, n_estimators=None,\n",
       "                                      n_jobs=None, num_parallel_tree=None,\n",
       "                                      random_state=None, ...),\n",
       "              n_iter=32, n_jobs=-1, scoring=&#x27;f1&#x27;,\n",
       "              search_spaces={&#x27;learning_rate&#x27;: Real(low=0.01, high=0.2, prior=&#x27;log-uniform&#x27;, transform=&#x27;normalize&#x27;),\n",
       "                             &#x27;max_depth&#x27;: Integer(low=3, high=7, prior=&#x27;uniform&#x27;, transform=&#x27;normalize&#x27;),\n",
       "                             &#x27;n_estimators&#x27;: Integer(low=100, high=300, prior=&#x27;uniform&#x27;, transform=&#x27;normalize&#x27;)})</pre></div></div></div><div class=\"sk-parallel\"><div class=\"sk-parallel-item\"><div class=\"sk-item\"><div class=\"sk-label-container\"><div class=\"sk-label sk-toggleable\"><input class=\"sk-toggleable__control sk-hidden--visually\" id=\"sk-estimator-id-3\" type=\"checkbox\" ><label for=\"sk-estimator-id-3\" class=\"sk-toggleable__label sk-toggleable__label-arrow\">estimator: XGBClassifier</label><div class=\"sk-toggleable__content\"><pre>XGBClassifier(base_score=None, booster=None, callbacks=None,\n",
       "              colsample_bylevel=None, colsample_bynode=None,\n",
       "              colsample_bytree=None, device=None, early_stopping_rounds=None,\n",
       "              enable_categorical=False, eval_metric=None, feature_types=None,\n",
       "              gamma=None, grow_policy=None, importance_type=None,\n",
       "              interaction_constraints=None, learning_rate=None, max_bin=None,\n",
       "              max_cat_threshold=None, max_cat_to_onehot=None,\n",
       "              max_delta_step=None, max_depth=None, max_leaves=None,\n",
       "              min_child_weight=None, missing=nan, monotone_constraints=None,\n",
       "              multi_strategy=None, n_estimators=None, n_jobs=None,\n",
       "              num_parallel_tree=None, random_state=None, ...)</pre></div></div></div><div class=\"sk-serial\"><div class=\"sk-item\"><div class=\"sk-estimator sk-toggleable\"><input class=\"sk-toggleable__control sk-hidden--visually\" id=\"sk-estimator-id-4\" type=\"checkbox\" ><label for=\"sk-estimator-id-4\" class=\"sk-toggleable__label sk-toggleable__label-arrow\">XGBClassifier</label><div class=\"sk-toggleable__content\"><pre>XGBClassifier(base_score=None, booster=None, callbacks=None,\n",
       "              colsample_bylevel=None, colsample_bynode=None,\n",
       "              colsample_bytree=None, device=None, early_stopping_rounds=None,\n",
       "              enable_categorical=False, eval_metric=None, feature_types=None,\n",
       "              gamma=None, grow_policy=None, importance_type=None,\n",
       "              interaction_constraints=None, learning_rate=None, max_bin=None,\n",
       "              max_cat_threshold=None, max_cat_to_onehot=None,\n",
       "              max_delta_step=None, max_depth=None, max_leaves=None,\n",
       "              min_child_weight=None, missing=nan, monotone_constraints=None,\n",
       "              multi_strategy=None, n_estimators=None, n_jobs=None,\n",
       "              num_parallel_tree=None, random_state=None, ...)</pre></div></div></div></div></div></div></div></div></div></div>"
      ],
      "text/plain": [
       "BayesSearchCV(cv=5,\n",
       "              estimator=XGBClassifier(base_score=None, booster=None,\n",
       "                                      callbacks=None, colsample_bylevel=None,\n",
       "                                      colsample_bynode=None,\n",
       "                                      colsample_bytree=None, device=None,\n",
       "                                      early_stopping_rounds=None,\n",
       "                                      enable_categorical=False,\n",
       "                                      eval_metric=None, feature_types=None,\n",
       "                                      gamma=None, grow_policy=None,\n",
       "                                      importance_type=None,\n",
       "                                      interaction_constraints=None,\n",
       "                                      learning_rate=None...\n",
       "                                      multi_strategy=None, n_estimators=None,\n",
       "                                      n_jobs=None, num_parallel_tree=None,\n",
       "                                      random_state=None, ...),\n",
       "              n_iter=32, n_jobs=-1, scoring='f1',\n",
       "              search_spaces={'learning_rate': Real(low=0.01, high=0.2, prior='log-uniform', transform='normalize'),\n",
       "                             'max_depth': Integer(low=3, high=7, prior='uniform', transform='normalize'),\n",
       "                             'n_estimators': Integer(low=100, high=300, prior='uniform', transform='normalize')})"
      ]
     },
     "execution_count": 70,
     "metadata": {},
     "output_type": "execute_result"
    }
   ],
   "source": [
    "opt.fit(x_train, y_train)\n",
    "    "
   ]
  },
  {
   "cell_type": "code",
   "execution_count": 71,
   "metadata": {},
   "outputs": [
    {
     "name": "stdout",
     "output_type": "stream",
     "text": [
      "Best parameters for xgboost: OrderedDict([('learning_rate', 0.13040880940827454), ('max_depth', 6), ('n_estimators', 300)])\n",
      "\n",
      "\n"
     ]
    }
   ],
   "source": [
    "print(f\"Best parameters for {model_name}: {opt.best_params_}\")\n",
    "print(\"\\n\")"
   ]
  },
  {
   "cell_type": "markdown",
   "metadata": {},
   "source": [
    "# Model Selection:\n",
    "* After conducting hyperparameter tuning using BayesSearch, the XGBoost model was selected with its best parameters. XGBoost, an efficient and scalable gradient boosting library, offers powerful predictive capabilities and is well-suited for addressing the challenges of predicting loan defaults.\n",
    "\n",
    "## Model Training:\n",
    "* The hyperparameter-tuned XGBoost model was trained using the historical loan data. By training the model on the available data, we aim to capture the underlying patterns and relationships that can help in accurately estimating the probability of loan default.\n",
    "\n",
    "## Cross-Validation:\n",
    "* To assess the generalization performance of the trained XGBoost model, cross-validation was performed. Cross-validation helps in evaluating how well the model performs on unseen data and provides insights into its robustness and reliability.\n",
    "\n",
    "## Conclusion:\n",
    "* The hyperparameter-tuned and trained XGBoost mode along with the cross-validation results, represents a significant milestone in developing an effective predictive model for estimating the probability of loan default. By leveraging the strengths of XGBoost and optimizing its hyperparameters, we aim to provide a reliable tool for risk management and strategic planning in the context of loan defaults.\n"
   ]
  },
  {
   "cell_type": "code",
   "execution_count": 72,
   "metadata": {},
   "outputs": [],
   "source": [
    "from xgboost import XGBClassifier\n",
    "\n",
    "#Instantiate the XGBoost classifier with the best parameters obtained from hyperparameter tuning\n",
    "xgb_model = XGBClassifier(\n",
    "    learning_rate= 0.13040880940827454,  \n",
    "    max_depth=6,  \n",
    "    n_estimators=300  \n",
    ")"
   ]
  },
  {
   "cell_type": "code",
   "execution_count": 73,
   "metadata": {},
   "outputs": [
    {
     "data": {
      "text/html": [
       "<style>#sk-container-id-3 {color: black;background-color: white;}#sk-container-id-3 pre{padding: 0;}#sk-container-id-3 div.sk-toggleable {background-color: white;}#sk-container-id-3 label.sk-toggleable__label {cursor: pointer;display: block;width: 100%;margin-bottom: 0;padding: 0.3em;box-sizing: border-box;text-align: center;}#sk-container-id-3 label.sk-toggleable__label-arrow:before {content: \"▸\";float: left;margin-right: 0.25em;color: #696969;}#sk-container-id-3 label.sk-toggleable__label-arrow:hover:before {color: black;}#sk-container-id-3 div.sk-estimator:hover label.sk-toggleable__label-arrow:before {color: black;}#sk-container-id-3 div.sk-toggleable__content {max-height: 0;max-width: 0;overflow: hidden;text-align: left;background-color: #f0f8ff;}#sk-container-id-3 div.sk-toggleable__content pre {margin: 0.2em;color: black;border-radius: 0.25em;background-color: #f0f8ff;}#sk-container-id-3 input.sk-toggleable__control:checked~div.sk-toggleable__content {max-height: 200px;max-width: 100%;overflow: auto;}#sk-container-id-3 input.sk-toggleable__control:checked~label.sk-toggleable__label-arrow:before {content: \"▾\";}#sk-container-id-3 div.sk-estimator input.sk-toggleable__control:checked~label.sk-toggleable__label {background-color: #d4ebff;}#sk-container-id-3 div.sk-label input.sk-toggleable__control:checked~label.sk-toggleable__label {background-color: #d4ebff;}#sk-container-id-3 input.sk-hidden--visually {border: 0;clip: rect(1px 1px 1px 1px);clip: rect(1px, 1px, 1px, 1px);height: 1px;margin: -1px;overflow: hidden;padding: 0;position: absolute;width: 1px;}#sk-container-id-3 div.sk-estimator {font-family: monospace;background-color: #f0f8ff;border: 1px dotted black;border-radius: 0.25em;box-sizing: border-box;margin-bottom: 0.5em;}#sk-container-id-3 div.sk-estimator:hover {background-color: #d4ebff;}#sk-container-id-3 div.sk-parallel-item::after {content: \"\";width: 100%;border-bottom: 1px solid gray;flex-grow: 1;}#sk-container-id-3 div.sk-label:hover label.sk-toggleable__label {background-color: #d4ebff;}#sk-container-id-3 div.sk-serial::before {content: \"\";position: absolute;border-left: 1px solid gray;box-sizing: border-box;top: 0;bottom: 0;left: 50%;z-index: 0;}#sk-container-id-3 div.sk-serial {display: flex;flex-direction: column;align-items: center;background-color: white;padding-right: 0.2em;padding-left: 0.2em;position: relative;}#sk-container-id-3 div.sk-item {position: relative;z-index: 1;}#sk-container-id-3 div.sk-parallel {display: flex;align-items: stretch;justify-content: center;background-color: white;position: relative;}#sk-container-id-3 div.sk-item::before, #sk-container-id-3 div.sk-parallel-item::before {content: \"\";position: absolute;border-left: 1px solid gray;box-sizing: border-box;top: 0;bottom: 0;left: 50%;z-index: -1;}#sk-container-id-3 div.sk-parallel-item {display: flex;flex-direction: column;z-index: 1;position: relative;background-color: white;}#sk-container-id-3 div.sk-parallel-item:first-child::after {align-self: flex-end;width: 50%;}#sk-container-id-3 div.sk-parallel-item:last-child::after {align-self: flex-start;width: 50%;}#sk-container-id-3 div.sk-parallel-item:only-child::after {width: 0;}#sk-container-id-3 div.sk-dashed-wrapped {border: 1px dashed gray;margin: 0 0.4em 0.5em 0.4em;box-sizing: border-box;padding-bottom: 0.4em;background-color: white;}#sk-container-id-3 div.sk-label label {font-family: monospace;font-weight: bold;display: inline-block;line-height: 1.2em;}#sk-container-id-3 div.sk-label-container {text-align: center;}#sk-container-id-3 div.sk-container {/* jupyter's `normalize.less` sets `[hidden] { display: none; }` but bootstrap.min.css set `[hidden] { display: none !important; }` so we also need the `!important` here to be able to override the default hidden behavior on the sphinx rendered scikit-learn.org. See: https://github.com/scikit-learn/scikit-learn/issues/21755 */display: inline-block !important;position: relative;}#sk-container-id-3 div.sk-text-repr-fallback {display: none;}</style><div id=\"sk-container-id-3\" class=\"sk-top-container\"><div class=\"sk-text-repr-fallback\"><pre>XGBClassifier(base_score=None, booster=None, callbacks=None,\n",
       "              colsample_bylevel=None, colsample_bynode=None,\n",
       "              colsample_bytree=None, device=None, early_stopping_rounds=None,\n",
       "              enable_categorical=False, eval_metric=None, feature_types=None,\n",
       "              gamma=None, grow_policy=None, importance_type=None,\n",
       "              interaction_constraints=None, learning_rate=0.13040880940827454,\n",
       "              max_bin=None, max_cat_threshold=None, max_cat_to_onehot=None,\n",
       "              max_delta_step=None, max_depth=6, max_leaves=None,\n",
       "              min_child_weight=None, missing=nan, monotone_constraints=None,\n",
       "              multi_strategy=None, n_estimators=300, n_jobs=None,\n",
       "              num_parallel_tree=None, random_state=None, ...)</pre><b>In a Jupyter environment, please rerun this cell to show the HTML representation or trust the notebook. <br />On GitHub, the HTML representation is unable to render, please try loading this page with nbviewer.org.</b></div><div class=\"sk-container\" hidden><div class=\"sk-item\"><div class=\"sk-estimator sk-toggleable\"><input class=\"sk-toggleable__control sk-hidden--visually\" id=\"sk-estimator-id-5\" type=\"checkbox\" checked><label for=\"sk-estimator-id-5\" class=\"sk-toggleable__label sk-toggleable__label-arrow\">XGBClassifier</label><div class=\"sk-toggleable__content\"><pre>XGBClassifier(base_score=None, booster=None, callbacks=None,\n",
       "              colsample_bylevel=None, colsample_bynode=None,\n",
       "              colsample_bytree=None, device=None, early_stopping_rounds=None,\n",
       "              enable_categorical=False, eval_metric=None, feature_types=None,\n",
       "              gamma=None, grow_policy=None, importance_type=None,\n",
       "              interaction_constraints=None, learning_rate=0.13040880940827454,\n",
       "              max_bin=None, max_cat_threshold=None, max_cat_to_onehot=None,\n",
       "              max_delta_step=None, max_depth=6, max_leaves=None,\n",
       "              min_child_weight=None, missing=nan, monotone_constraints=None,\n",
       "              multi_strategy=None, n_estimators=300, n_jobs=None,\n",
       "              num_parallel_tree=None, random_state=None, ...)</pre></div></div></div></div></div>"
      ],
      "text/plain": [
       "XGBClassifier(base_score=None, booster=None, callbacks=None,\n",
       "              colsample_bylevel=None, colsample_bynode=None,\n",
       "              colsample_bytree=None, device=None, early_stopping_rounds=None,\n",
       "              enable_categorical=False, eval_metric=None, feature_types=None,\n",
       "              gamma=None, grow_policy=None, importance_type=None,\n",
       "              interaction_constraints=None, learning_rate=0.13040880940827454,\n",
       "              max_bin=None, max_cat_threshold=None, max_cat_to_onehot=None,\n",
       "              max_delta_step=None, max_depth=6, max_leaves=None,\n",
       "              min_child_weight=None, missing=nan, monotone_constraints=None,\n",
       "              multi_strategy=None, n_estimators=300, n_jobs=None,\n",
       "              num_parallel_tree=None, random_state=None, ...)"
      ]
     },
     "execution_count": 73,
     "metadata": {},
     "output_type": "execute_result"
    }
   ],
   "source": [
    "#Fit the XGBoost model to the training data\n",
    "xgb_model.fit(x_train, y_train)"
   ]
  },
  {
   "cell_type": "code",
   "execution_count": 74,
   "metadata": {},
   "outputs": [
    {
     "name": "stdout",
     "output_type": "stream",
     "text": [
      "Cross-validation scores: [0.91    0.90685 0.9087  0.9061  0.91015]\n",
      "Mean accuracy: 0.9083600000000001\n"
     ]
    }
   ],
   "source": [
    "from sklearn.model_selection import cross_val_score\n",
    "#Perform k-fold cross-validation to evaluate the model's performance\n",
    "cv_scores = cross_val_score(xgb_model, X, y, cv=5, scoring='accuracy') \n",
    "print(\"Cross-validation scores:\", cv_scores)\n",
    "print(\"Mean accuracy:\", cv_scores.mean())"
   ]
  },
  {
   "cell_type": "code",
   "execution_count": 75,
   "metadata": {},
   "outputs": [
    {
     "data": {
      "text/plain": [
       "array([0, 0, 0, ..., 0, 0, 0])"
      ]
     },
     "execution_count": 75,
     "metadata": {},
     "output_type": "execute_result"
    }
   ],
   "source": [
    "xgb_pred = xgb_model.predict(x_test)\n",
    "xgb_pred"
   ]
  },
  {
   "cell_type": "code",
   "execution_count": 76,
   "metadata": {},
   "outputs": [
    {
     "data": {
      "text/html": [
       "<div>\n",
       "<style scoped>\n",
       "    .dataframe tbody tr th:only-of-type {\n",
       "        vertical-align: middle;\n",
       "    }\n",
       "\n",
       "    .dataframe tbody tr th {\n",
       "        vertical-align: top;\n",
       "    }\n",
       "\n",
       "    .dataframe thead th {\n",
       "        text-align: right;\n",
       "    }\n",
       "</style>\n",
       "<table border=\"1\" class=\"dataframe\">\n",
       "  <thead>\n",
       "    <tr style=\"text-align: right;\">\n",
       "      <th></th>\n",
       "      <th>0</th>\n",
       "    </tr>\n",
       "  </thead>\n",
       "  <tbody>\n",
       "    <tr>\n",
       "      <th>0</th>\n",
       "      <td>0</td>\n",
       "    </tr>\n",
       "    <tr>\n",
       "      <th>1</th>\n",
       "      <td>0</td>\n",
       "    </tr>\n",
       "    <tr>\n",
       "      <th>2</th>\n",
       "      <td>0</td>\n",
       "    </tr>\n",
       "    <tr>\n",
       "      <th>3</th>\n",
       "      <td>0</td>\n",
       "    </tr>\n",
       "    <tr>\n",
       "      <th>4</th>\n",
       "      <td>0</td>\n",
       "    </tr>\n",
       "    <tr>\n",
       "      <th>...</th>\n",
       "      <td>...</td>\n",
       "    </tr>\n",
       "    <tr>\n",
       "      <th>32995</th>\n",
       "      <td>1</td>\n",
       "    </tr>\n",
       "    <tr>\n",
       "      <th>32996</th>\n",
       "      <td>0</td>\n",
       "    </tr>\n",
       "    <tr>\n",
       "      <th>32997</th>\n",
       "      <td>0</td>\n",
       "    </tr>\n",
       "    <tr>\n",
       "      <th>32998</th>\n",
       "      <td>0</td>\n",
       "    </tr>\n",
       "    <tr>\n",
       "      <th>32999</th>\n",
       "      <td>0</td>\n",
       "    </tr>\n",
       "  </tbody>\n",
       "</table>\n",
       "<p>33000 rows × 1 columns</p>\n",
       "</div>"
      ],
      "text/plain": [
       "       0\n",
       "0      0\n",
       "1      0\n",
       "2      0\n",
       "3      0\n",
       "4      0\n",
       "...   ..\n",
       "32995  1\n",
       "32996  0\n",
       "32997  0\n",
       "32998  0\n",
       "32999  0\n",
       "\n",
       "[33000 rows x 1 columns]"
      ]
     },
     "execution_count": 76,
     "metadata": {},
     "output_type": "execute_result"
    }
   ],
   "source": [
    "pd.DataFrame(xgb_pred)"
   ]
  },
  {
   "cell_type": "code",
   "execution_count": 77,
   "metadata": {},
   "outputs": [
    {
     "data": {
      "text/plain": [
       "['trained_model.pkl']"
      ]
     },
     "execution_count": 77,
     "metadata": {},
     "output_type": "execute_result"
    }
   ],
   "source": [
    "import joblib\n",
    "# Save the model to a file\n",
    "XGBClassifier = 'trained_model.pkl'\n",
    "joblib.dump(xgb_model, XGBClassifier)"
   ]
  },
  {
   "cell_type": "markdown",
   "metadata": {},
   "source": [
    "# Model Loading and FastAPI Integration\n",
    "\n",
    "## Model Loading:\n",
    "* To minimize space and efficiently load the trained XGBoost model within the FastAPI app, the xgboost.Booster() object is utilized. This object allows for the loading of the model directly from the model file without loading the entire XGBoost library, thereby optimizing memory usage.\n",
    "\n",
    "## FastAPI Integration:\n",
    "* The FastAPI app is created to serve as an interface for making predictions using the trained XGBoost model. The app defines an endpoint for receiving input data and providing predictions based on the loaded model.\n",
    "\n",
    "## Explanation:\n",
    "* Within the load_model() function, the xgboost.Booster() object is used to load the trained XGBoost model from the model file, replacing 'path_to_your_xgboost_model.model' with the actual path to the XGBoost model file. This approach minimizes memory usage by loading only the necessary components of the model.\n",
    "\n",
    "* The prediction endpoint defined in the FastAPI app receives input data, processes it using the loaded model, and returns the prediction. By integrating the model loading and the FastAPI app, this setup allows for efficient deployment of the predictive model while optimizing memory utilization.\n",
    "\n",
    "\n",
    "## Run the FastAPI app\n",
    "* The FastAPI app is then run using uvicorn, enabling it to listen on the specified host and port for incoming prediction requests.\n"
   ]
  },
  {
   "cell_type": "code",
   "execution_count": 78,
   "metadata": {},
   "outputs": [],
   "source": [
    "from contextlib import asynccontextmanager\n",
    "from fastapi import FastAPI\n",
    "from pydantic import BaseModel\n",
    "import xgboost as xgb\n",
    "import numpy as np\n",
    "import asyncio\n",
    "\n",
    "app = FastAPI()\n",
    "\n"
   ]
  },
  {
   "cell_type": "code",
   "execution_count": 79,
   "metadata": {},
   "outputs": [],
   "source": [
    "class InputData(BaseModel):\n",
    "    feature1: float\n",
    "    feature2: float\n",
    "    feature3: float\n",
    "\n",
    "\n"
   ]
  },
  {
   "cell_type": "code",
   "execution_count": 80,
   "metadata": {},
   "outputs": [],
   "source": [
    "\n",
    "@app.post(\"/predict\")\n",
    "async def predict(data: InputData):\n",
    "    # Load the model from the pickle file\n",
    "    model = xgb.Booster()\n",
    "    model.load_model(\"trained_model.pkl\")\n",
    "\n",
    "    features = np.array([[data.feature1, data.feature2, data.feature3]])\n",
    "    dmatrix = xgb.DMatrix(features)\n",
    "    prediction = model.predict(dmatrix)\n",
    "    return {\"prediction\": prediction[0]}\n"
   ]
  },
  {
   "cell_type": "code",
   "execution_count": null,
   "metadata": {},
   "outputs": [],
   "source": [
    "\n",
    "\n",
    "if __name__ == \"__main__\":\n",
    "    import uvicorn\n",
    "    import nest_asyncio\n",
    "    nest_asyncio.apply()\n",
    "    uvicorn.run(app, host=\"0.0.0.0\", port=8080)"
   ]
  }
 ],
 "metadata": {
  "kernelspec": {
   "display_name": "Python 3 (ipykernel)",
   "language": "python",
   "name": "python3"
  },
  "language_info": {
   "codemirror_mode": {
    "name": "ipython",
    "version": 3
   },
   "file_extension": ".py",
   "mimetype": "text/x-python",
   "name": "python",
   "nbconvert_exporter": "python",
   "pygments_lexer": "ipython3",
   "version": "3.11.9"
  }
 },
 "nbformat": 4,
 "nbformat_minor": 4
}
